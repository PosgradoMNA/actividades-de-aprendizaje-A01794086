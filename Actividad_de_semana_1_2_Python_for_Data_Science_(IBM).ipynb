{
  "nbformat": 4,
  "nbformat_minor": 0,
  "metadata": {
    "colab": {
      "provenance": [],
      "authorship_tag": "ABX9TyPvhPREzIZ+qCcRqHw1poHP",
      "include_colab_link": true
    },
    "kernelspec": {
      "name": "python3",
      "display_name": "Python 3"
    },
    "language_info": {
      "name": "python"
    }
  },
  "cells": [
    {
      "cell_type": "markdown",
      "metadata": {
        "id": "view-in-github",
        "colab_type": "text"
      },
      "source": [
        "<a href=\"https://colab.research.google.com/github/PosgradoMNA/actividades-de-aprendizaje-A01794086/blob/development/Actividad_de_semana_1_2_Python_for_Data_Science_(IBM).ipynb\" target=\"_parent\"><img src=\"https://colab.research.google.com/assets/colab-badge.svg\" alt=\"Open In Colab\"/></a>"
      ]
    },
    {
      "cell_type": "markdown",
      "source": [
        "Module 1 - Python Basics"
      ],
      "metadata": {
        "id": "LmnqKrEfA3Bb"
      }
    },
    {
      "cell_type": "code",
      "execution_count": null,
      "metadata": {
        "colab": {
          "base_uri": "https://localhost:8080/"
        },
        "id": "2BEEYJolTgon",
        "outputId": "0dc84ae0-1af0-4817-8599-e5f0bec40b45"
      },
      "outputs": [
        {
          "output_type": "stream",
          "name": "stdout",
          "text": [
            "Hello World!\n"
          ]
        }
      ],
      "source": [
        "# My first program\n",
        "print('Hello World!')"
      ]
    },
    {
      "cell_type": "code",
      "source": [
        "# Types\n",
        "type(10)"
      ],
      "metadata": {
        "colab": {
          "base_uri": "https://localhost:8080/"
        },
        "id": "x3GzL_5lVCWq",
        "outputId": "9f702b54-55e5-40ca-9d20-f963b3351c2e"
      },
      "execution_count": null,
      "outputs": [
        {
          "output_type": "execute_result",
          "data": {
            "text/plain": [
              "int"
            ]
          },
          "metadata": {},
          "execution_count": 8
        }
      ]
    },
    {
      "cell_type": "code",
      "source": [
        "type(1.4)"
      ],
      "metadata": {
        "colab": {
          "base_uri": "https://localhost:8080/"
        },
        "id": "UqVH-dO_WKIf",
        "outputId": "3933c5ea-df17-4358-a175-ffbcb8402606"
      },
      "execution_count": null,
      "outputs": [
        {
          "output_type": "execute_result",
          "data": {
            "text/plain": [
              "float"
            ]
          },
          "metadata": {},
          "execution_count": 9
        }
      ]
    },
    {
      "cell_type": "code",
      "source": [
        "type(\"Something\")"
      ],
      "metadata": {
        "colab": {
          "base_uri": "https://localhost:8080/"
        },
        "id": "wQF1rBk4WJbE",
        "outputId": "76a81df4-cd61-4b6c-bb34-67a5821ed034"
      },
      "execution_count": null,
      "outputs": [
        {
          "output_type": "execute_result",
          "data": {
            "text/plain": [
              "str"
            ]
          },
          "metadata": {},
          "execution_count": 10
        }
      ]
    },
    {
      "cell_type": "code",
      "source": [
        "float(3)"
      ],
      "metadata": {
        "colab": {
          "base_uri": "https://localhost:8080/"
        },
        "id": "M2lM1BuXWbGp",
        "outputId": "aaec1ba5-f4cc-4901-e42e-91421cbf5bec"
      },
      "execution_count": null,
      "outputs": [
        {
          "output_type": "execute_result",
          "data": {
            "text/plain": [
              "3.0"
            ]
          },
          "metadata": {},
          "execution_count": 11
        }
      ]
    },
    {
      "cell_type": "code",
      "source": [
        "int(1.0)"
      ],
      "metadata": {
        "colab": {
          "base_uri": "https://localhost:8080/"
        },
        "id": "Dtm_tVx7WnBD",
        "outputId": "685ddf53-13dc-40a5-c7f0-efda2faca450"
      },
      "execution_count": null,
      "outputs": [
        {
          "output_type": "execute_result",
          "data": {
            "text/plain": [
              "1"
            ]
          },
          "metadata": {},
          "execution_count": 17
        }
      ]
    },
    {
      "cell_type": "code",
      "source": [
        "int('70')"
      ],
      "metadata": {
        "colab": {
          "base_uri": "https://localhost:8080/"
        },
        "id": "T0WaIFEWWpHh",
        "outputId": "33b9ddb7-8ae5-4651-b8f0-a61348fcc19a"
      },
      "execution_count": null,
      "outputs": [
        {
          "output_type": "execute_result",
          "data": {
            "text/plain": [
              "70"
            ]
          },
          "metadata": {},
          "execution_count": 13
        }
      ]
    },
    {
      "cell_type": "code",
      "source": [
        "str(90)"
      ],
      "metadata": {
        "colab": {
          "base_uri": "https://localhost:8080/",
          "height": 37
        },
        "id": "Xvs6u6bMWu1L",
        "outputId": "4a21a3c9-da93-4eb4-8483-c722aa96a7c8"
      },
      "execution_count": null,
      "outputs": [
        {
          "output_type": "execute_result",
          "data": {
            "text/plain": [
              "'90'"
            ],
            "application/vnd.google.colaboratory.intrinsic+json": {
              "type": "string"
            }
          },
          "metadata": {},
          "execution_count": 14
        }
      ]
    },
    {
      "cell_type": "code",
      "source": [
        "type(True)"
      ],
      "metadata": {
        "colab": {
          "base_uri": "https://localhost:8080/"
        },
        "id": "gHLgOxk0Xf8R",
        "outputId": "11fcb1e6-026b-4d1b-a0b8-fdd9cb3e1af1"
      },
      "execution_count": null,
      "outputs": [
        {
          "output_type": "execute_result",
          "data": {
            "text/plain": [
              "bool"
            ]
          },
          "metadata": {},
          "execution_count": 15
        }
      ]
    },
    {
      "cell_type": "code",
      "source": [
        "bool(1)"
      ],
      "metadata": {
        "colab": {
          "base_uri": "https://localhost:8080/"
        },
        "id": "6WHQ6i0BXofY",
        "outputId": "8838993c-5cc1-4bed-d774-b9e961ffa91f"
      },
      "execution_count": null,
      "outputs": [
        {
          "output_type": "execute_result",
          "data": {
            "text/plain": [
              "True"
            ]
          },
          "metadata": {},
          "execution_count": 16
        }
      ]
    },
    {
      "cell_type": "code",
      "source": [
        "# Expressions and Variables"
      ],
      "metadata": {
        "id": "dLATVIM9ZSnr"
      },
      "execution_count": null,
      "outputs": []
    },
    {
      "cell_type": "code",
      "source": [
        "150 * 9"
      ],
      "metadata": {
        "colab": {
          "base_uri": "https://localhost:8080/"
        },
        "id": "hCu3T_CZZbxZ",
        "outputId": "e2c3e371-9b5e-44b6-b958-737aeb3a37a9"
      },
      "execution_count": null,
      "outputs": [
        {
          "output_type": "execute_result",
          "data": {
            "text/plain": [
              "1350"
            ]
          },
          "metadata": {},
          "execution_count": 18
        }
      ]
    },
    {
      "cell_type": "code",
      "source": [
        "56/2"
      ],
      "metadata": {
        "colab": {
          "base_uri": "https://localhost:8080/"
        },
        "id": "NMglQ_70ZmAm",
        "outputId": "9a3daa4f-f7bf-4319-b6c6-83d0f23e5e1d"
      },
      "execution_count": null,
      "outputs": [
        {
          "output_type": "execute_result",
          "data": {
            "text/plain": [
              "28.0"
            ]
          },
          "metadata": {},
          "execution_count": 19
        }
      ]
    },
    {
      "cell_type": "code",
      "source": [
        "56//2"
      ],
      "metadata": {
        "colab": {
          "base_uri": "https://localhost:8080/"
        },
        "id": "R6-4qchyZyvk",
        "outputId": "cd3603d1-2f51-4fa8-b08c-c3c75341ed2a"
      },
      "execution_count": null,
      "outputs": [
        {
          "output_type": "execute_result",
          "data": {
            "text/plain": [
              "28"
            ]
          },
          "metadata": {},
          "execution_count": 20
        }
      ]
    },
    {
      "cell_type": "code",
      "source": [
        "3*9+4/9+(3+5)"
      ],
      "metadata": {
        "colab": {
          "base_uri": "https://localhost:8080/"
        },
        "id": "iLVafmmfZ-Zz",
        "outputId": "29d89dc7-1752-4a21-a34a-14f771383f68"
      },
      "execution_count": null,
      "outputs": [
        {
          "output_type": "execute_result",
          "data": {
            "text/plain": [
              "35.44444444444444"
            ]
          },
          "metadata": {},
          "execution_count": 21
        }
      ]
    },
    {
      "cell_type": "code",
      "source": [
        "first_variable = 10"
      ],
      "metadata": {
        "id": "cSz6axWiaQj5"
      },
      "execution_count": null,
      "outputs": []
    },
    {
      "cell_type": "code",
      "source": [
        "first_variable:100"
      ],
      "metadata": {
        "id": "xYycMY-3aaP1"
      },
      "execution_count": null,
      "outputs": []
    },
    {
      "cell_type": "code",
      "source": [
        "print(first_variable)"
      ],
      "metadata": {
        "colab": {
          "base_uri": "https://localhost:8080/"
        },
        "id": "gVRBVTRoalEL",
        "outputId": "165f2ccc-00fe-4d88-e750-9e0eb35abf21"
      },
      "execution_count": null,
      "outputs": [
        {
          "output_type": "stream",
          "name": "stdout",
          "text": [
            "10\n"
          ]
        }
      ]
    },
    {
      "cell_type": "code",
      "source": [
        "# String Operations"
      ],
      "metadata": {
        "id": "Ip6wWC6hdnYQ"
      },
      "execution_count": null,
      "outputs": []
    },
    {
      "cell_type": "code",
      "source": [
        "print(\"Hello \" + 'world!')"
      ],
      "metadata": {
        "colab": {
          "base_uri": "https://localhost:8080/"
        },
        "id": "aHKs1gOcd6kR",
        "outputId": "860c6893-20bb-4720-bec2-0c10f00977c8"
      },
      "execution_count": null,
      "outputs": [
        {
          "output_type": "stream",
          "name": "stdout",
          "text": [
            "Hello world!\n"
          ]
        }
      ]
    },
    {
      "cell_type": "code",
      "source": [
        "name = \"Rey David Guzmán\""
      ],
      "metadata": {
        "id": "fIoRJd4Texzg"
      },
      "execution_count": null,
      "outputs": []
    },
    {
      "cell_type": "code",
      "source": [
        "print(\"Test: \" + name[-1] + \" \" + name[15])"
      ],
      "metadata": {
        "colab": {
          "base_uri": "https://localhost:8080/"
        },
        "id": "ODRLkfHCe7L3",
        "outputId": "7ca09f8a-8387-45e1-f758-9c0ea019d7ca"
      },
      "execution_count": null,
      "outputs": [
        {
          "output_type": "stream",
          "name": "stdout",
          "text": [
            "Test: n n\n"
          ]
        }
      ]
    },
    {
      "cell_type": "code",
      "source": [
        "print(name[0:3])"
      ],
      "metadata": {
        "colab": {
          "base_uri": "https://localhost:8080/"
        },
        "id": "6iN9_nxrfgsr",
        "outputId": "9375dad7-6546-4f16-a68d-78fb371bc300"
      },
      "execution_count": null,
      "outputs": [
        {
          "output_type": "stream",
          "name": "stdout",
          "text": [
            "Rey\n"
          ]
        }
      ]
    },
    {
      "cell_type": "code",
      "source": [
        "print(name[::4])"
      ],
      "metadata": {
        "colab": {
          "base_uri": "https://localhost:8080/"
        },
        "id": "NZOEOUJifrVs",
        "outputId": "a3aa2c6d-61a6-43f0-bb4c-831094cc4e1c"
      },
      "execution_count": null,
      "outputs": [
        {
          "output_type": "stream",
          "name": "stdout",
          "text": [
            "RDdz\n"
          ]
        }
      ]
    },
    {
      "cell_type": "code",
      "source": [
        "len(name)"
      ],
      "metadata": {
        "colab": {
          "base_uri": "https://localhost:8080/"
        },
        "id": "65m5LzpmgBTw",
        "outputId": "a07ea1d0-bf04-49d9-a1f1-cda9e1b0422b"
      },
      "execution_count": null,
      "outputs": [
        {
          "output_type": "execute_result",
          "data": {
            "text/plain": [
              "16"
            ]
          },
          "metadata": {},
          "execution_count": 42
        }
      ]
    },
    {
      "cell_type": "code",
      "source": [
        "new_string = \"This is\\n a new\\tstring\""
      ],
      "metadata": {
        "id": "qT1eajQMgaVY"
      },
      "execution_count": null,
      "outputs": []
    },
    {
      "cell_type": "code",
      "source": [
        "print(new_string)"
      ],
      "metadata": {
        "colab": {
          "base_uri": "https://localhost:8080/"
        },
        "id": "R31AJhKxgqL_",
        "outputId": "48f2f30b-bfe3-41ee-94f8-4f56a34766d3"
      },
      "execution_count": null,
      "outputs": [
        {
          "output_type": "stream",
          "name": "stdout",
          "text": [
            "This is\n",
            " a new\tstring\n"
          ]
        }
      ]
    },
    {
      "cell_type": "code",
      "source": [
        "print(name.upper())"
      ],
      "metadata": {
        "colab": {
          "base_uri": "https://localhost:8080/"
        },
        "id": "MxpycV_Vg2l6",
        "outputId": "9e65edc1-d6b6-4d7f-dc0b-6a23aa8e4207"
      },
      "execution_count": null,
      "outputs": [
        {
          "output_type": "stream",
          "name": "stdout",
          "text": [
            "REY DAVID GUZMÁN\n"
          ]
        }
      ]
    },
    {
      "cell_type": "code",
      "source": [
        "new_name = name.replace('Guzmán', 'Guzman')"
      ],
      "metadata": {
        "id": "F1rQTZydhLi0"
      },
      "execution_count": null,
      "outputs": []
    },
    {
      "cell_type": "code",
      "source": [
        "print(new_name)"
      ],
      "metadata": {
        "colab": {
          "base_uri": "https://localhost:8080/"
        },
        "id": "sF3iAtuoheTp",
        "outputId": "52ec208d-93af-411a-de56-2c9b275909f6"
      },
      "execution_count": null,
      "outputs": [
        {
          "output_type": "stream",
          "name": "stdout",
          "text": [
            "Rey David Guzman\n"
          ]
        }
      ]
    },
    {
      "cell_type": "code",
      "source": [
        "name.find('David')"
      ],
      "metadata": {
        "colab": {
          "base_uri": "https://localhost:8080/"
        },
        "id": "Eh5oudjrhnWH",
        "outputId": "3398ad2c-7dd6-43f6-bb87-e333552d7c56"
      },
      "execution_count": null,
      "outputs": [
        {
          "output_type": "execute_result",
          "data": {
            "text/plain": [
              "4"
            ]
          },
          "metadata": {},
          "execution_count": 49
        }
      ]
    },
    {
      "cell_type": "code",
      "source": [
        "name.find('w')"
      ],
      "metadata": {
        "colab": {
          "base_uri": "https://localhost:8080/"
        },
        "id": "YnpbZGtXhu65",
        "outputId": "985f1a5a-eb42-4a00-8d69-bffa7bebbb7a"
      },
      "execution_count": null,
      "outputs": [
        {
          "output_type": "execute_result",
          "data": {
            "text/plain": [
              "-1"
            ]
          },
          "metadata": {},
          "execution_count": 50
        }
      ]
    },
    {
      "cell_type": "code",
      "source": [
        "numbers = \"0123456\""
      ],
      "metadata": {
        "id": "dSfn8363iE5g"
      },
      "execution_count": null,
      "outputs": []
    },
    {
      "cell_type": "code",
      "source": [
        "numbers[::2]"
      ],
      "metadata": {
        "colab": {
          "base_uri": "https://localhost:8080/",
          "height": 37
        },
        "id": "8M_zPKbuiFhP",
        "outputId": "401cda4a-99cf-4fbd-a58c-1b00ba9446ff"
      },
      "execution_count": null,
      "outputs": [
        {
          "output_type": "execute_result",
          "data": {
            "text/plain": [
              "'0246'"
            ],
            "application/vnd.google.colaboratory.intrinsic+json": {
              "type": "string"
            }
          },
          "metadata": {},
          "execution_count": 54
        }
      ]
    },
    {
      "cell_type": "code",
      "source": [
        "\"0123456\".find('1')"
      ],
      "metadata": {
        "colab": {
          "base_uri": "https://localhost:8080/"
        },
        "id": "cEDqNmmDibbj",
        "outputId": "d03796fe-0e0b-43f7-f78a-5452bbbf65f2"
      },
      "execution_count": null,
      "outputs": [
        {
          "output_type": "execute_result",
          "data": {
            "text/plain": [
              "1"
            ]
          },
          "metadata": {},
          "execution_count": 55
        }
      ]
    },
    {
      "cell_type": "markdown",
      "source": [
        "Skills Network Labs"
      ],
      "metadata": {
        "id": "k1E4ll9x-o2e"
      }
    },
    {
      "cell_type": "code",
      "source": [
        "#Let's say hello to the world with a PRINT statement.\n",
        "print(\"Hello World\")"
      ],
      "metadata": {
        "colab": {
          "base_uri": "https://localhost:8080/"
        },
        "id": "5pfojh1F_WjM",
        "outputId": "ace5fcc0-cda7-418b-b74f-8bae3a68e44e"
      },
      "execution_count": null,
      "outputs": [
        {
          "output_type": "stream",
          "name": "stdout",
          "text": [
            "Hello World\n"
          ]
        }
      ]
    },
    {
      "cell_type": "code",
      "source": [
        "#Let's print \"Hello\" and \"World\" on two separate lines. Hint: \\n in the middle of the string acts as a new line character.\n",
        "print(\"Hello\\nWorld\")"
      ],
      "metadata": {
        "colab": {
          "base_uri": "https://localhost:8080/"
        },
        "id": "-90wJLvj_jP0",
        "outputId": "f21d73f8-28c0-4861-e7f2-2847dfa29056"
      },
      "execution_count": null,
      "outputs": [
        {
          "output_type": "stream",
          "name": "stdout",
          "text": [
            "Hello\n",
            "World\n"
          ]
        }
      ]
    },
    {
      "cell_type": "code",
      "source": [
        "#In Python, comments are created by putting a hash mark # in front of the text of the comment.\n",
        "# this is a comment"
      ],
      "metadata": {
        "id": "Zq17NYnJ_sfX"
      },
      "execution_count": null,
      "outputs": []
    },
    {
      "cell_type": "code",
      "source": [
        "#Find the type of the following using the type command:\n",
        "type(\"Hello World\")"
      ],
      "metadata": {
        "colab": {
          "base_uri": "https://localhost:8080/"
        },
        "id": "liFwuwofACg8",
        "outputId": "bc846a23-7b15-44f8-c0fe-29164fcf7467"
      },
      "execution_count": null,
      "outputs": [
        {
          "output_type": "execute_result",
          "data": {
            "text/plain": [
              "str"
            ]
          },
          "metadata": {},
          "execution_count": 97
        }
      ]
    },
    {
      "cell_type": "code",
      "source": [
        "#Find the type of the following using the type command:\n",
        "type(\"1.1\")"
      ],
      "metadata": {
        "colab": {
          "base_uri": "https://localhost:8080/"
        },
        "id": "RF1Su2oVAOy9",
        "outputId": "43e419d2-ee4d-45e4-f391-aff445b9c287"
      },
      "execution_count": null,
      "outputs": [
        {
          "output_type": "execute_result",
          "data": {
            "text/plain": [
              "str"
            ]
          },
          "metadata": {},
          "execution_count": 98
        }
      ]
    },
    {
      "cell_type": "code",
      "source": [
        "#Cast the following to an int and then to a bool:\n",
        "print(int(\"1\"))\n",
        "print(bool(\"1\"))"
      ],
      "metadata": {
        "colab": {
          "base_uri": "https://localhost:8080/"
        },
        "id": "Z01hGk3zAgcH",
        "outputId": "e0981be7-ef99-4521-ce0a-cf6bb163a224"
      },
      "execution_count": null,
      "outputs": [
        {
          "output_type": "stream",
          "name": "stdout",
          "text": [
            "1\n",
            "True\n"
          ]
        }
      ]
    },
    {
      "cell_type": "code",
      "source": [
        "#Exercise: Your First Program\n",
        "print(\"Hello, world!\")\n",
        "print(\"Hello, world!\") # Print the traditional hello world"
      ],
      "metadata": {
        "colab": {
          "base_uri": "https://localhost:8080/"
        },
        "id": "wEgEddtRDIt0",
        "outputId": "8f3809c2-1d85-49e2-98d9-16b28b40ff2d"
      },
      "execution_count": null,
      "outputs": [
        {
          "output_type": "stream",
          "name": "stdout",
          "text": [
            "Hello, world!\n",
            "Hello, world!\n"
          ]
        }
      ]
    },
    {
      "cell_type": "code",
      "source": [
        "#Exercise: Types\n",
        "type(6/2)"
      ],
      "metadata": {
        "colab": {
          "base_uri": "https://localhost:8080/"
        },
        "id": "Gp2Zst-fDj-S",
        "outputId": "8a6a73b2-64dc-43ec-901f-bc4ea61223ca"
      },
      "execution_count": null,
      "outputs": [
        {
          "output_type": "execute_result",
          "data": {
            "text/plain": [
              "float"
            ]
          },
          "metadata": {},
          "execution_count": 101
        }
      ]
    },
    {
      "cell_type": "code",
      "source": [
        "type(6//2)"
      ],
      "metadata": {
        "colab": {
          "base_uri": "https://localhost:8080/"
        },
        "id": "Uiep0L5gDswZ",
        "outputId": "d95e16a3-12fa-4b75-9b93-d73ed4b78187"
      },
      "execution_count": null,
      "outputs": [
        {
          "output_type": "execute_result",
          "data": {
            "text/plain": [
              "int"
            ]
          },
          "metadata": {},
          "execution_count": 102
        }
      ]
    },
    {
      "cell_type": "code",
      "source": [
        "#Exercise: Expression\n",
        "160/60 "
      ],
      "metadata": {
        "colab": {
          "base_uri": "https://localhost:8080/"
        },
        "id": "GpW3wPibD3mI",
        "outputId": "87e5c01e-3563-4c64-f808-3cd2ae276c1a"
      },
      "execution_count": null,
      "outputs": [
        {
          "output_type": "execute_result",
          "data": {
            "text/plain": [
              "2.6666666666666665"
            ]
          },
          "metadata": {},
          "execution_count": 103
        }
      ]
    },
    {
      "cell_type": "code",
      "source": [
        "30 + 2 * 60"
      ],
      "metadata": {
        "colab": {
          "base_uri": "https://localhost:8080/"
        },
        "id": "23DypRpPEA02",
        "outputId": "8221da48-92b5-47ab-f240-b6b7b6082250"
      },
      "execution_count": null,
      "outputs": [
        {
          "output_type": "execute_result",
          "data": {
            "text/plain": [
              "150"
            ]
          },
          "metadata": {},
          "execution_count": 104
        }
      ]
    },
    {
      "cell_type": "code",
      "source": [
        "(30 + 2) * 60"
      ],
      "metadata": {
        "colab": {
          "base_uri": "https://localhost:8080/"
        },
        "id": "jCbLbA0qERZq",
        "outputId": "acec9c1a-69b1-4a87-b2a3-e536a260b99a"
      },
      "execution_count": null,
      "outputs": [
        {
          "output_type": "execute_result",
          "data": {
            "text/plain": [
              "1920"
            ]
          },
          "metadata": {},
          "execution_count": 105
        }
      ]
    },
    {
      "cell_type": "code",
      "source": [
        "#Exercise: Expression and Variables in Python\n",
        "x = 3 + 2 * 2\n",
        "x"
      ],
      "metadata": {
        "colab": {
          "base_uri": "https://localhost:8080/"
        },
        "id": "Q6vlIsOhElxh",
        "outputId": "ae46231f-7f43-4995-f127-d19c0899bb2c"
      },
      "execution_count": null,
      "outputs": [
        {
          "output_type": "execute_result",
          "data": {
            "text/plain": [
              "7"
            ]
          },
          "metadata": {},
          "execution_count": 106
        }
      ]
    },
    {
      "cell_type": "code",
      "source": [
        "y = (3 + 2) * 2\n",
        "y"
      ],
      "metadata": {
        "colab": {
          "base_uri": "https://localhost:8080/"
        },
        "id": "9wKmPoMPExwV",
        "outputId": "eb3c02c1-9a85-4f2d-f825-19912cd5faf7"
      },
      "execution_count": null,
      "outputs": [
        {
          "output_type": "execute_result",
          "data": {
            "text/plain": [
              "10"
            ]
          },
          "metadata": {},
          "execution_count": 107
        }
      ]
    },
    {
      "cell_type": "code",
      "source": [
        "z = x + y\n",
        "z"
      ],
      "metadata": {
        "colab": {
          "base_uri": "https://localhost:8080/"
        },
        "id": "eqTIvYzdE9RQ",
        "outputId": "e370fdb8-90cf-4767-809e-dcb0889cefab"
      },
      "execution_count": null,
      "outputs": [
        {
          "output_type": "execute_result",
          "data": {
            "text/plain": [
              "17"
            ]
          },
          "metadata": {},
          "execution_count": 109
        }
      ]
    },
    {
      "cell_type": "code",
      "source": [
        "#Use slicing to find the first four elements of the following string:\n",
        "Letters=\"ABCDEFGHIJK\"\n",
        "Letters[0:4]"
      ],
      "metadata": {
        "colab": {
          "base_uri": "https://localhost:8080/",
          "height": 37
        },
        "id": "Gd_LH8usFYPN",
        "outputId": "a9b72cb0-e21a-449d-c31e-5acdbbe423f3"
      },
      "execution_count": null,
      "outputs": [
        {
          "output_type": "execute_result",
          "data": {
            "text/plain": [
              "'ABCD'"
            ],
            "application/vnd.google.colaboratory.intrinsic+json": {
              "type": "string"
            }
          },
          "metadata": {},
          "execution_count": 110
        }
      ]
    },
    {
      "cell_type": "code",
      "source": [
        "#Use a stride value of 2 on the following string :\n",
        "Good=\"GsoAo+d\"\n",
        "Good[::2]"
      ],
      "metadata": {
        "colab": {
          "base_uri": "https://localhost:8080/",
          "height": 37
        },
        "id": "tn4HAzu9FeIE",
        "outputId": "7fe71a69-7503-48a0-caf6-badf132814fc"
      },
      "execution_count": null,
      "outputs": [
        {
          "output_type": "execute_result",
          "data": {
            "text/plain": [
              "'Good'"
            ],
            "application/vnd.google.colaboratory.intrinsic+json": {
              "type": "string"
            }
          },
          "metadata": {},
          "execution_count": 111
        }
      ]
    },
    {
      "cell_type": "code",
      "source": [
        "#Convert the following string to uppercase using the method upper():\n",
        "\"uppercase\"\n",
        "\"uppercase\".upper()"
      ],
      "metadata": {
        "colab": {
          "base_uri": "https://localhost:8080/",
          "height": 37
        },
        "id": "05iuP_MyFpDc",
        "outputId": "6647b41e-86a0-46f6-9a1b-45f3e3d8e2b6"
      },
      "execution_count": null,
      "outputs": [
        {
          "output_type": "execute_result",
          "data": {
            "text/plain": [
              "'UPPERCASE'"
            ],
            "application/vnd.google.colaboratory.intrinsic+json": {
              "type": "string"
            }
          },
          "metadata": {},
          "execution_count": 112
        }
      ]
    },
    {
      "cell_type": "code",
      "source": [
        "#What is the value of the variable a after the following code is executed?\n",
        "a = \"1\"\n",
        "a"
      ],
      "metadata": {
        "colab": {
          "base_uri": "https://localhost:8080/",
          "height": 37
        },
        "id": "mnBJsFXWGWQy",
        "outputId": "03f5f90e-aa9e-47fe-f2b9-bc82f508f030"
      },
      "execution_count": null,
      "outputs": [
        {
          "output_type": "execute_result",
          "data": {
            "text/plain": [
              "'1'"
            ],
            "application/vnd.google.colaboratory.intrinsic+json": {
              "type": "string"
            }
          },
          "metadata": {},
          "execution_count": 113
        }
      ]
    },
    {
      "cell_type": "code",
      "source": [
        "#What is the value of the variable b after the following code is executed?\n",
        "b = \"2\"\n",
        "b"
      ],
      "metadata": {
        "colab": {
          "base_uri": "https://localhost:8080/",
          "height": 37
        },
        "id": "OWt8EaMiGgT5",
        "outputId": "9550b000-3494-4353-ddee-39819ff9014e"
      },
      "execution_count": null,
      "outputs": [
        {
          "output_type": "execute_result",
          "data": {
            "text/plain": [
              "'2'"
            ],
            "application/vnd.google.colaboratory.intrinsic+json": {
              "type": "string"
            }
          },
          "metadata": {},
          "execution_count": 114
        }
      ]
    },
    {
      "cell_type": "code",
      "source": [
        "#What is the value of the variable c after the following code is executed?\n",
        "c = a + b\n",
        "c"
      ],
      "metadata": {
        "colab": {
          "base_uri": "https://localhost:8080/",
          "height": 37
        },
        "id": "cDoEJGUMGufC",
        "outputId": "0f431b66-a1b5-445d-e690-fd71f4749114"
      },
      "execution_count": null,
      "outputs": [
        {
          "output_type": "execute_result",
          "data": {
            "text/plain": [
              "'12'"
            ],
            "application/vnd.google.colaboratory.intrinsic+json": {
              "type": "string"
            }
          },
          "metadata": {},
          "execution_count": 115
        }
      ]
    },
    {
      "cell_type": "code",
      "source": [
        "#Consider the variable d use slicing to print out the first three elements:\n",
        "d = \"ABCDEFG\"\n",
        "print(d[:3]) "
      ],
      "metadata": {
        "colab": {
          "base_uri": "https://localhost:8080/"
        },
        "id": "b5vWJNcUG1uh",
        "outputId": "cc36be8a-24db-4095-da70-876a815a8682"
      },
      "execution_count": null,
      "outputs": [
        {
          "output_type": "stream",
          "name": "stdout",
          "text": [
            "ABC\n"
          ]
        }
      ]
    },
    {
      "cell_type": "code",
      "source": [
        "#Use a stride value of 2 to print out every second character of the string e:\n",
        "e = 'clocrkr1e1c1t'\n",
        "print(e[::2])"
      ],
      "metadata": {
        "colab": {
          "base_uri": "https://localhost:8080/"
        },
        "id": "06w1IE_6HCZA",
        "outputId": "4f733743-7e41-4ba4-dd77-5c416aa703ae"
      },
      "execution_count": null,
      "outputs": [
        {
          "output_type": "stream",
          "name": "stdout",
          "text": [
            "correct\n"
          ]
        }
      ]
    },
    {
      "cell_type": "code",
      "source": [
        "#Print out a backslash:\n",
        "print(\"\\\\\\\\\\\\\")"
      ],
      "metadata": {
        "colab": {
          "base_uri": "https://localhost:8080/"
        },
        "id": "XxrQuNF8HMDs",
        "outputId": "ae18c6f9-62ec-4ef8-83b4-ceb1cf322f3a"
      },
      "execution_count": null,
      "outputs": [
        {
          "output_type": "stream",
          "name": "stdout",
          "text": [
            "\\\\\\\n"
          ]
        }
      ]
    },
    {
      "cell_type": "code",
      "source": [
        "#Convert the variable f to uppercase:\n",
        "f = \"You are wrong\"\n",
        "f.upper()"
      ],
      "metadata": {
        "colab": {
          "base_uri": "https://localhost:8080/",
          "height": 37
        },
        "id": "pl2Q9sKDHSUm",
        "outputId": "6a0a2654-de08-44e1-caea-8f941aa611d4"
      },
      "execution_count": null,
      "outputs": [
        {
          "output_type": "execute_result",
          "data": {
            "text/plain": [
              "'YOU ARE WRONG'"
            ],
            "application/vnd.google.colaboratory.intrinsic+json": {
              "type": "string"
            }
          },
          "metadata": {},
          "execution_count": 119
        }
      ]
    },
    {
      "cell_type": "code",
      "source": [
        "#Consider the variable g, and find the first index of the sub-string snow:\n",
        "g = \"Mary had a little lamb Little lamb, little lamb Mary had a little lamb \\\n",
        "Its fleece was white as snow And everywhere that Mary went Mary went, Mary went \\\n",
        "Everywhere that Mary went The lamb was sure to go\"\n",
        "g.find(\"snow\")"
      ],
      "metadata": {
        "colab": {
          "base_uri": "https://localhost:8080/"
        },
        "id": "ipswxUVvHbno",
        "outputId": "1ed921ab-40ef-41b3-9faf-965607258afa"
      },
      "execution_count": null,
      "outputs": [
        {
          "output_type": "execute_result",
          "data": {
            "text/plain": [
              "95"
            ]
          },
          "metadata": {},
          "execution_count": 120
        }
      ]
    },
    {
      "cell_type": "code",
      "source": [
        "#In the variable g, replace the sub-string Mary with Bob:\n",
        "g.replace(\"Mary\", \"Bob\")\n",
        "g"
      ],
      "metadata": {
        "colab": {
          "base_uri": "https://localhost:8080/",
          "height": 54
        },
        "id": "bWzM6pTHHmtl",
        "outputId": "1945780a-a491-4335-f38b-200c0e7c765c"
      },
      "execution_count": null,
      "outputs": [
        {
          "output_type": "execute_result",
          "data": {
            "text/plain": [
              "'Mary had a little lamb Little lamb, little lamb Mary had a little lamb Its fleece was white as snow And everywhere that Mary went Mary went, Mary went Everywhere that Mary went The lamb was sure to go'"
            ],
            "application/vnd.google.colaboratory.intrinsic+json": {
              "type": "string"
            }
          },
          "metadata": {},
          "execution_count": 121
        }
      ]
    },
    {
      "cell_type": "markdown",
      "source": [
        "Module 2 - Python Data Structures"
      ],
      "metadata": {
        "id": "6kQT32yXAfk8"
      }
    },
    {
      "cell_type": "code",
      "source": [
        "# Lists and Tuples"
      ],
      "metadata": {
        "id": "HiI8_J_EAxmw"
      },
      "execution_count": null,
      "outputs": []
    },
    {
      "cell_type": "code",
      "source": [
        "# Tuples\n",
        "# Tuples are expressed as comma-separated elements within parentheses.\n",
        "# Different type of variables can be conteined in a tuple"
      ],
      "metadata": {
        "id": "D6eZtouECKQo"
      },
      "execution_count": null,
      "outputs": []
    },
    {
      "cell_type": "code",
      "source": [
        "new_tuple = (\"something\", 1, True, 5.6, (\"another tuple\", 0))"
      ],
      "metadata": {
        "id": "mZzoESW-FhUN"
      },
      "execution_count": null,
      "outputs": []
    },
    {
      "cell_type": "code",
      "source": [
        "new_tuple[2]"
      ],
      "metadata": {
        "id": "TzaXUsHPFqll",
        "outputId": "6496b777-e57a-4ec7-877f-7986cbe394ff",
        "colab": {
          "base_uri": "https://localhost:8080/"
        }
      },
      "execution_count": null,
      "outputs": [
        {
          "output_type": "execute_result",
          "data": {
            "text/plain": [
              "True"
            ]
          },
          "metadata": {},
          "execution_count": 9
        }
      ]
    },
    {
      "cell_type": "code",
      "source": [
        "# Slide Tuples"
      ],
      "metadata": {
        "id": "cGFlDokXGeLi"
      },
      "execution_count": null,
      "outputs": []
    },
    {
      "cell_type": "code",
      "source": [
        "new_tuple[2:]"
      ],
      "metadata": {
        "id": "Icm7eQaMF0K4",
        "outputId": "0d6b58fb-9e1a-431c-f9ac-233170168257",
        "colab": {
          "base_uri": "https://localhost:8080/"
        }
      },
      "execution_count": null,
      "outputs": [
        {
          "output_type": "execute_result",
          "data": {
            "text/plain": [
              "(True, 5.6, ('another tuple', 0))"
            ]
          },
          "metadata": {},
          "execution_count": 11
        }
      ]
    },
    {
      "cell_type": "code",
      "source": [
        "new_tuple[4][0]"
      ],
      "metadata": {
        "id": "lUWVxjJAIoi4",
        "outputId": "d3913d39-62d6-4e52-95f8-c3fb73b9e724",
        "colab": {
          "base_uri": "https://localhost:8080/",
          "height": 37
        }
      },
      "execution_count": null,
      "outputs": [
        {
          "output_type": "execute_result",
          "data": {
            "text/plain": [
              "'another tuple'"
            ],
            "application/vnd.google.colaboratory.intrinsic+json": {
              "type": "string"
            }
          },
          "metadata": {},
          "execution_count": 17
        }
      ]
    },
    {
      "cell_type": "code",
      "source": [
        "# Tuples are inmutable"
      ],
      "metadata": {
        "id": "rGctf7byGmfj"
      },
      "execution_count": null,
      "outputs": []
    },
    {
      "cell_type": "code",
      "source": [
        "numbers_tuple = (9,4,3,2,0,-50)"
      ],
      "metadata": {
        "id": "IdahQnCFIKOx"
      },
      "execution_count": null,
      "outputs": []
    },
    {
      "cell_type": "code",
      "source": [
        "numbers_sorted = sorted(numbers_tuple)"
      ],
      "metadata": {
        "id": "emSkNVpqIRre"
      },
      "execution_count": null,
      "outputs": []
    },
    {
      "cell_type": "code",
      "source": [
        "numbers_sorted"
      ],
      "metadata": {
        "id": "eyrw1IA8IZ9W",
        "outputId": "db28922c-0524-4086-b3e3-21b5f15cbbb3",
        "colab": {
          "base_uri": "https://localhost:8080/"
        }
      },
      "execution_count": null,
      "outputs": [
        {
          "output_type": "execute_result",
          "data": {
            "text/plain": [
              "[-50, 0, 2, 3, 4, 9]"
            ]
          },
          "metadata": {},
          "execution_count": 16
        }
      ]
    },
    {
      "cell_type": "code",
      "source": [
        "# List \n",
        "# A list is represented with square brackets.\n",
        "# Lists are mutable\n",
        "new_list = [\"something\", 1, True, 5.6, (\"tuple\", 0), ['b','a','c']]"
      ],
      "metadata": {
        "id": "ZTXD72k4JDPr"
      },
      "execution_count": null,
      "outputs": []
    },
    {
      "cell_type": "code",
      "source": [
        "second_list = ['k', 'l', 'm']"
      ],
      "metadata": {
        "id": "TBcEOqzFLQi-"
      },
      "execution_count": null,
      "outputs": []
    },
    {
      "cell_type": "code",
      "source": [
        "new_list"
      ],
      "metadata": {
        "id": "lyqXOISQJXtd",
        "outputId": "caa0df20-0a9a-4a85-d111-4645e12861d4",
        "colab": {
          "base_uri": "https://localhost:8080/"
        }
      },
      "execution_count": null,
      "outputs": [
        {
          "output_type": "execute_result",
          "data": {
            "text/plain": [
              "['something', 1, True, 5.6, ('tuple', 0), ['b', 'a', 'c']]"
            ]
          },
          "metadata": {},
          "execution_count": 23
        }
      ]
    },
    {
      "cell_type": "code",
      "source": [
        "new_list[5]"
      ],
      "metadata": {
        "id": "j87HXIGvLHPP",
        "outputId": "907f414c-a979-4ab1-a76e-c5162de1ff48",
        "colab": {
          "base_uri": "https://localhost:8080/"
        }
      },
      "execution_count": null,
      "outputs": [
        {
          "output_type": "execute_result",
          "data": {
            "text/plain": [
              "['b', 'a', 'c']"
            ]
          },
          "metadata": {},
          "execution_count": 24
        }
      ]
    },
    {
      "cell_type": "code",
      "source": [
        "new_list + second_list"
      ],
      "metadata": {
        "id": "w2We2AGcLL4F",
        "outputId": "b47660fe-4e69-4f9c-a752-fc96c006213c",
        "colab": {
          "base_uri": "https://localhost:8080/"
        }
      },
      "execution_count": null,
      "outputs": [
        {
          "output_type": "execute_result",
          "data": {
            "text/plain": [
              "['something', 1, True, 5.6, ('tuple', 0), ['b', 'a', 'c'], 'k', 'l', 'm']"
            ]
          },
          "metadata": {},
          "execution_count": 26
        }
      ]
    },
    {
      "cell_type": "code",
      "source": [
        "second_list[0] = \"new word\""
      ],
      "metadata": {
        "id": "zWr_jJ4ULtHi"
      },
      "execution_count": null,
      "outputs": []
    },
    {
      "cell_type": "code",
      "source": [
        "second_list"
      ],
      "metadata": {
        "id": "49XovkjbL8I6",
        "outputId": "1d00eafc-55a5-4e4d-b6a0-169b812e8ad7",
        "colab": {
          "base_uri": "https://localhost:8080/"
        }
      },
      "execution_count": null,
      "outputs": [
        {
          "output_type": "execute_result",
          "data": {
            "text/plain": [
              "['new word', 'l', 'm']"
            ]
          },
          "metadata": {},
          "execution_count": 28
        }
      ]
    },
    {
      "cell_type": "code",
      "source": [
        "second_list.append(\"p\")\n",
        "second_list"
      ],
      "metadata": {
        "id": "NeSUzOnVMQj5",
        "outputId": "8c9513f0-4842-4444-fbc7-de6fbede0328",
        "colab": {
          "base_uri": "https://localhost:8080/"
        }
      },
      "execution_count": null,
      "outputs": [
        {
          "output_type": "execute_result",
          "data": {
            "text/plain": [
              "['new word', 'l', 'm', 'p']"
            ]
          },
          "metadata": {},
          "execution_count": 29
        }
      ]
    },
    {
      "cell_type": "code",
      "source": [
        "\"new word\".split()"
      ],
      "metadata": {
        "id": "HwZcWo-5MZq9",
        "outputId": "4a297d67-0957-45c7-9d2d-bed5bfa4feb5",
        "colab": {
          "base_uri": "https://localhost:8080/"
        }
      },
      "execution_count": null,
      "outputs": [
        {
          "output_type": "execute_result",
          "data": {
            "text/plain": [
              "['new', 'word']"
            ]
          },
          "metadata": {},
          "execution_count": 30
        }
      ]
    },
    {
      "cell_type": "code",
      "source": [
        "# Clone a List\n",
        "third_list = second_list[:]\n",
        "second_list.append(\"000\")\n",
        "third_list"
      ],
      "metadata": {
        "id": "vbWzB0KLNDuM",
        "outputId": "9f6fd401-e5dc-4c64-ea3b-3b7757e67121",
        "colab": {
          "base_uri": "https://localhost:8080/"
        }
      },
      "execution_count": null,
      "outputs": [
        {
          "output_type": "execute_result",
          "data": {
            "text/plain": [
              "['new word', 'l', 'm', 'p']"
            ]
          },
          "metadata": {},
          "execution_count": 33
        }
      ]
    },
    {
      "cell_type": "code",
      "source": [
        "second_list"
      ],
      "metadata": {
        "id": "qC-aC7_kNWlS",
        "outputId": "c7545d2d-8c51-4525-a2b1-da844169586a",
        "colab": {
          "base_uri": "https://localhost:8080/"
        }
      },
      "execution_count": null,
      "outputs": [
        {
          "output_type": "execute_result",
          "data": {
            "text/plain": [
              "['new word', 'l', 'm', 'p', '000']"
            ]
          },
          "metadata": {},
          "execution_count": 34
        }
      ]
    },
    {
      "cell_type": "code",
      "source": [
        "# Sets \n",
        "# Sets are unordered and only have unique elements \n",
        "new_set = {8,1,5,9,10} \n",
        "# list to set \n",
        "second_set = set(['a','b','c'])\n",
        "new_set"
      ],
      "metadata": {
        "colab": {
          "base_uri": "https://localhost:8080/"
        },
        "id": "8g5l8GrOH22d",
        "outputId": "0c6215bd-080f-46e8-cb94-9c272b91368e"
      },
      "execution_count": null,
      "outputs": [
        {
          "output_type": "execute_result",
          "data": {
            "text/plain": [
              "{1, 5, 8, 9, 10}"
            ]
          },
          "metadata": {},
          "execution_count": 25
        }
      ]
    },
    {
      "cell_type": "code",
      "source": [
        "second_set"
      ],
      "metadata": {
        "colab": {
          "base_uri": "https://localhost:8080/"
        },
        "id": "_PSdKIGPI859",
        "outputId": "a342eb56-d979-4414-88a8-b1585cfdfdb2"
      },
      "execution_count": null,
      "outputs": [
        {
          "output_type": "execute_result",
          "data": {
            "text/plain": [
              "{'a', 'b', 'c', 'item one'}"
            ]
          },
          "metadata": {},
          "execution_count": 34
        }
      ]
    },
    {
      "cell_type": "code",
      "source": [
        "second_set.add('item one')\n",
        "second_set"
      ],
      "metadata": {
        "colab": {
          "base_uri": "https://localhost:8080/"
        },
        "id": "o-RldLB6I_9G",
        "outputId": "08ceafbb-cf90-4eca-a564-641869b90817"
      },
      "execution_count": null,
      "outputs": [
        {
          "output_type": "execute_result",
          "data": {
            "text/plain": [
              "{'a', 'b', 'c', 'item one'}"
            ]
          },
          "metadata": {},
          "execution_count": 36
        }
      ]
    },
    {
      "cell_type": "code",
      "source": [
        "second_set.remove('a')\n",
        "second_set"
      ],
      "metadata": {
        "colab": {
          "base_uri": "https://localhost:8080/"
        },
        "id": "JFl4TrFyJcYn",
        "outputId": "0ecc3f08-a4e6-4ce7-dd5c-f3db1d2f1cc2"
      },
      "execution_count": null,
      "outputs": [
        {
          "output_type": "execute_result",
          "data": {
            "text/plain": [
              "{'b', 'c', 'item one'}"
            ]
          },
          "metadata": {},
          "execution_count": 37
        }
      ]
    },
    {
      "cell_type": "code",
      "source": [
        "# Check if an item is in a set\n",
        "'b' in second_set"
      ],
      "metadata": {
        "colab": {
          "base_uri": "https://localhost:8080/"
        },
        "id": "uX8aowuIJg64",
        "outputId": "00f06912-8292-4ac2-f8c7-321f586e84ac"
      },
      "execution_count": null,
      "outputs": [
        {
          "output_type": "execute_result",
          "data": {
            "text/plain": [
              "True"
            ]
          },
          "metadata": {},
          "execution_count": 39
        }
      ]
    },
    {
      "cell_type": "code",
      "source": [
        "# intersection of sets\n",
        "second_set.add(1)\n",
        "second_set.add(10)\n",
        "new_set & second_set"
      ],
      "metadata": {
        "colab": {
          "base_uri": "https://localhost:8080/"
        },
        "id": "3M1D7Lv7JkqQ",
        "outputId": "6a7d2474-da6f-4dee-a6a3-f314afb4e0f0"
      },
      "execution_count": null,
      "outputs": [
        {
          "output_type": "execute_result",
          "data": {
            "text/plain": [
              "{1, 10}"
            ]
          },
          "metadata": {},
          "execution_count": 40
        }
      ]
    },
    {
      "cell_type": "code",
      "source": [
        "# union of sets\n",
        "third_set = new_set.union(second_set)\n",
        "third_set"
      ],
      "metadata": {
        "colab": {
          "base_uri": "https://localhost:8080/"
        },
        "id": "aNIg63CuJsnA",
        "outputId": "5bdb85ec-268a-45a1-d44e-abd5e43795fb"
      },
      "execution_count": null,
      "outputs": [
        {
          "output_type": "execute_result",
          "data": {
            "text/plain": [
              "{1, 10, 5, 8, 9, 'b', 'c', 'item one'}"
            ]
          },
          "metadata": {},
          "execution_count": 41
        }
      ]
    },
    {
      "cell_type": "code",
      "source": [
        "new_set.issubset(third_set)"
      ],
      "metadata": {
        "colab": {
          "base_uri": "https://localhost:8080/"
        },
        "id": "yS6mNRCtJzLs",
        "outputId": "6ab66605-b48a-4e64-99d1-a587cc8768e5"
      },
      "execution_count": null,
      "outputs": [
        {
          "output_type": "execute_result",
          "data": {
            "text/plain": [
              "True"
            ]
          },
          "metadata": {},
          "execution_count": 42
        }
      ]
    },
    {
      "cell_type": "code",
      "source": [
        "# Dictionaries\n",
        "# The keys have to be immutbale and unique\n",
        "# the values can be immutable, mutable and duplicates\n",
        "\n",
        "new_dic = {\"key one\": \"value one\", 2:22, (3):[3,4]}\n",
        "new_dic"
      ],
      "metadata": {
        "colab": {
          "base_uri": "https://localhost:8080/"
        },
        "id": "zhGghkelKoJd",
        "outputId": "8595b405-5f19-4f61-ffe8-89c839bfc449"
      },
      "execution_count": null,
      "outputs": [
        {
          "output_type": "execute_result",
          "data": {
            "text/plain": [
              "{'key one': 'value one', 2: 22, 3: [3, 4]}"
            ]
          },
          "metadata": {},
          "execution_count": 52
        }
      ]
    },
    {
      "cell_type": "code",
      "source": [
        "new_dic['key one']"
      ],
      "metadata": {
        "colab": {
          "base_uri": "https://localhost:8080/",
          "height": 37
        },
        "id": "sKXICYuEON8m",
        "outputId": "ea160119-a088-4420-fc39-66e58642f162"
      },
      "execution_count": null,
      "outputs": [
        {
          "output_type": "execute_result",
          "data": {
            "text/plain": [
              "'value one'"
            ],
            "application/vnd.google.colaboratory.intrinsic+json": {
              "type": "string"
            }
          },
          "metadata": {},
          "execution_count": 53
        }
      ]
    },
    {
      "cell_type": "code",
      "source": [
        "# Add new key and value\n",
        "new_dic[\"fourth key\"] = 4\n",
        "new_dic"
      ],
      "metadata": {
        "colab": {
          "base_uri": "https://localhost:8080/"
        },
        "id": "4D_8awF4OVVE",
        "outputId": "480ac118-ec3c-45fd-ae48-7d58b75552ee"
      },
      "execution_count": null,
      "outputs": [
        {
          "output_type": "execute_result",
          "data": {
            "text/plain": [
              "{'key one': 'value one', 2: 22, 3: [3, 4], 'fourth key': 4}"
            ]
          },
          "metadata": {},
          "execution_count": 54
        }
      ]
    },
    {
      "cell_type": "code",
      "source": [
        "del(new_dic[3])\n",
        "new_dic"
      ],
      "metadata": {
        "colab": {
          "base_uri": "https://localhost:8080/"
        },
        "id": "gJ1wyk5VOynF",
        "outputId": "98e023ce-697e-428e-f71e-a25f636120ab"
      },
      "execution_count": null,
      "outputs": [
        {
          "output_type": "execute_result",
          "data": {
            "text/plain": [
              "{'key one': 'value one', 2: 22, 'fourth key': 4}"
            ]
          },
          "metadata": {},
          "execution_count": 55
        }
      ]
    },
    {
      "cell_type": "code",
      "source": [
        "\"key one\" in new_dic"
      ],
      "metadata": {
        "colab": {
          "base_uri": "https://localhost:8080/"
        },
        "id": "6V7ehrLut2OX",
        "outputId": "ba2b6ef6-d60c-4d40-f338-382b7e6fb912"
      },
      "execution_count": null,
      "outputs": [
        {
          "output_type": "execute_result",
          "data": {
            "text/plain": [
              "True"
            ]
          },
          "metadata": {},
          "execution_count": 56
        }
      ]
    },
    {
      "cell_type": "code",
      "source": [
        "new_dic.keys()"
      ],
      "metadata": {
        "colab": {
          "base_uri": "https://localhost:8080/"
        },
        "id": "Jq6zdNTXt9Pu",
        "outputId": "5541ee81-be08-45de-f920-676226c02f8d"
      },
      "execution_count": null,
      "outputs": [
        {
          "output_type": "execute_result",
          "data": {
            "text/plain": [
              "dict_keys(['key one', 2, 'fourth key'])"
            ]
          },
          "metadata": {},
          "execution_count": 57
        }
      ]
    },
    {
      "cell_type": "code",
      "source": [
        "new_dic.values()"
      ],
      "metadata": {
        "colab": {
          "base_uri": "https://localhost:8080/"
        },
        "id": "BbLqtIy3uCfr",
        "outputId": "55654f90-ce3b-4147-d9de-cc6e9a07cfd9"
      },
      "execution_count": null,
      "outputs": [
        {
          "output_type": "execute_result",
          "data": {
            "text/plain": [
              "dict_values(['value one', 22, 4])"
            ]
          },
          "metadata": {},
          "execution_count": 59
        }
      ]
    },
    {
      "cell_type": "markdown",
      "source": [
        "Skills Network Labs"
      ],
      "metadata": {
        "id": "PSU5wfZRIOP6"
      }
    },
    {
      "cell_type": "code",
      "source": [
        "#Create a tuple   (0,1,2,3)  and assign it to variable A:\n",
        "A = (0,1,2,3)\n",
        "print(A)"
      ],
      "metadata": {
        "id": "fP_JFsehIPeY",
        "outputId": "71e3f565-056d-4c33-d1e4-f2c4568c35b0",
        "colab": {
          "base_uri": "https://localhost:8080/"
        }
      },
      "execution_count": null,
      "outputs": [
        {
          "output_type": "stream",
          "name": "stdout",
          "text": [
            "(0, 1, 2, 3)\n"
          ]
        }
      ]
    },
    {
      "cell_type": "code",
      "source": [
        "#Find the first two elements of tuple  A :\n",
        "A[0:2]"
      ],
      "metadata": {
        "id": "J5qUjwCpIkmG",
        "outputId": "b5111ba0-9b1b-43dd-813d-03c603591ffc",
        "colab": {
          "base_uri": "https://localhost:8080/"
        }
      },
      "execution_count": null,
      "outputs": [
        {
          "output_type": "execute_result",
          "data": {
            "text/plain": [
              "(0, 1)"
            ]
          },
          "metadata": {},
          "execution_count": 123
        }
      ]
    },
    {
      "cell_type": "code",
      "source": [
        "#Find the first two elements of the list  B:\n",
        "B=[\"a\",\"b\",\"c\"]\n",
        "B[0:2]"
      ],
      "metadata": {
        "id": "chipH9DZIvci",
        "outputId": "0dabe71f-24fc-4788-c317-def3d7ddf688",
        "colab": {
          "base_uri": "https://localhost:8080/"
        }
      },
      "execution_count": null,
      "outputs": [
        {
          "output_type": "execute_result",
          "data": {
            "text/plain": [
              "['a', 'b']"
            ]
          },
          "metadata": {},
          "execution_count": 124
        }
      ]
    },
    {
      "cell_type": "code",
      "source": [
        "#Change the first element of the list to an uppercase \"A\".\n",
        "B[0] = 'A'\n",
        "print(B)"
      ],
      "metadata": {
        "id": "Rf-EoqMmI0RY",
        "outputId": "cbca25f1-252a-4f8e-9b25-3cb3a2177940",
        "colab": {
          "base_uri": "https://localhost:8080/"
        }
      },
      "execution_count": null,
      "outputs": [
        {
          "output_type": "stream",
          "name": "stdout",
          "text": [
            "['A', 'b', 'c']\n"
          ]
        }
      ]
    },
    {
      "cell_type": "code",
      "source": [
        "#Find the length of the tuple, genres_tuple:\n",
        "genres_tuple = (\"pop\", \"rock\", \"soul\", \"hard rock\", \"soft rock\", \\\n",
        "                \"R&B\", \"progressive rock\", \"disco\")\n",
        "len(genres_tuple)"
      ],
      "metadata": {
        "id": "CuVWGox1JXSA",
        "outputId": "5478425c-1cac-49ff-cffd-947e32af83ac",
        "colab": {
          "base_uri": "https://localhost:8080/"
        }
      },
      "execution_count": null,
      "outputs": [
        {
          "output_type": "execute_result",
          "data": {
            "text/plain": [
              "8"
            ]
          },
          "metadata": {},
          "execution_count": 126
        }
      ]
    },
    {
      "cell_type": "code",
      "source": [
        "#Access the element, with respect to index 3:\n",
        "genres_tuple[3]"
      ],
      "metadata": {
        "id": "GOYwwB0yJhzX",
        "outputId": "27f7eba3-d8c3-4323-8771-df92640adb42",
        "colab": {
          "base_uri": "https://localhost:8080/",
          "height": 37
        }
      },
      "execution_count": null,
      "outputs": [
        {
          "output_type": "execute_result",
          "data": {
            "text/plain": [
              "'hard rock'"
            ],
            "application/vnd.google.colaboratory.intrinsic+json": {
              "type": "string"
            }
          },
          "metadata": {},
          "execution_count": 127
        }
      ]
    },
    {
      "cell_type": "code",
      "source": [
        "#Use slicing to obtain indexes 3, 4 and 5:\n",
        "genres_tuple[3:6]"
      ],
      "metadata": {
        "id": "XcRaU9WsJnUm",
        "outputId": "ac0d2c4d-352e-456b-fbb5-6ba13724d87c",
        "colab": {
          "base_uri": "https://localhost:8080/"
        }
      },
      "execution_count": null,
      "outputs": [
        {
          "output_type": "execute_result",
          "data": {
            "text/plain": [
              "('hard rock', 'soft rock', 'R&B')"
            ]
          },
          "metadata": {},
          "execution_count": 128
        }
      ]
    },
    {
      "cell_type": "code",
      "source": [
        "#Find the first two elements of the tuple genres_tuple:\n",
        "genres_tuple[0:2]"
      ],
      "metadata": {
        "id": "94HzmeUrJvG_",
        "outputId": "1ad3f0f3-4d96-4143-d040-c4e964418a67",
        "colab": {
          "base_uri": "https://localhost:8080/"
        }
      },
      "execution_count": null,
      "outputs": [
        {
          "output_type": "execute_result",
          "data": {
            "text/plain": [
              "('pop', 'rock')"
            ]
          },
          "metadata": {},
          "execution_count": 129
        }
      ]
    },
    {
      "cell_type": "code",
      "source": [
        "#Find the first index of \"disco\":\n",
        "genres_tuple.index(\"disco\")"
      ],
      "metadata": {
        "id": "A_7E7aw-J0vi",
        "outputId": "e568480f-f1fe-430f-b7fb-4588e1162658",
        "colab": {
          "base_uri": "https://localhost:8080/"
        }
      },
      "execution_count": null,
      "outputs": [
        {
          "output_type": "execute_result",
          "data": {
            "text/plain": [
              "7"
            ]
          },
          "metadata": {},
          "execution_count": 130
        }
      ]
    },
    {
      "cell_type": "code",
      "source": [
        "#Generate a sorted List from the Tuple C_tuple=(-5, 1, -3):\n",
        "C_tuple = (-5, 1, -3)\n",
        "C_list = sorted(C_tuple)\n",
        "C_list"
      ],
      "metadata": {
        "id": "V85-OaqEJ6s4",
        "outputId": "b8ad7e6a-75a4-488f-906c-7bfdc1d5242b",
        "colab": {
          "base_uri": "https://localhost:8080/"
        }
      },
      "execution_count": null,
      "outputs": [
        {
          "output_type": "execute_result",
          "data": {
            "text/plain": [
              "[-5, -3, 1]"
            ]
          },
          "metadata": {},
          "execution_count": 131
        }
      ]
    },
    {
      "cell_type": "code",
      "source": [
        "#Create a list a_list, with the following elements 1, hello, [1,2,3] and True.\n",
        "a_list = [1, 'hello', [1, 2, 3] , True]\n",
        "a_list"
      ],
      "metadata": {
        "id": "9cVCDUPxKOrI",
        "outputId": "1e6627fa-7ae3-4508-e0bf-9ae9d7c94c72",
        "colab": {
          "base_uri": "https://localhost:8080/"
        }
      },
      "execution_count": null,
      "outputs": [
        {
          "output_type": "execute_result",
          "data": {
            "text/plain": [
              "[1, 'hello', [1, 2, 3], True]"
            ]
          },
          "metadata": {},
          "execution_count": 132
        }
      ]
    },
    {
      "cell_type": "code",
      "source": [
        "#Find the value stored at index 1 of a_list.\n",
        "a_list[1]"
      ],
      "metadata": {
        "id": "I0L5H_UMKSOt",
        "outputId": "aae2dc2f-dab1-4a89-d151-fe99e1e52c9d",
        "colab": {
          "base_uri": "https://localhost:8080/",
          "height": 37
        }
      },
      "execution_count": null,
      "outputs": [
        {
          "output_type": "execute_result",
          "data": {
            "text/plain": [
              "'hello'"
            ],
            "application/vnd.google.colaboratory.intrinsic+json": {
              "type": "string"
            }
          },
          "metadata": {},
          "execution_count": 133
        }
      ]
    },
    {
      "cell_type": "code",
      "source": [
        "#Retrieve the elements stored at index 1, 2 and 3 of a_list.\n",
        "a_list[1:4]"
      ],
      "metadata": {
        "id": "A-oGyTlTKa-4",
        "outputId": "8e77dd18-5fb9-47d1-f8ac-50e5e1f70ec3",
        "colab": {
          "base_uri": "https://localhost:8080/"
        }
      },
      "execution_count": null,
      "outputs": [
        {
          "output_type": "execute_result",
          "data": {
            "text/plain": [
              "['hello', [1, 2, 3], True]"
            ]
          },
          "metadata": {},
          "execution_count": 134
        }
      ]
    },
    {
      "cell_type": "code",
      "source": [
        "#Concatenate the following lists A = [1, 'a'] and B = [2, 1, 'd']:\n",
        "A = [1, 'a'] \n",
        "B = [2, 1, 'd']\n",
        "A + B"
      ],
      "metadata": {
        "id": "cn69-D6PKj5W",
        "outputId": "4e4350b1-0a0c-494d-84c5-960d4a31f272",
        "colab": {
          "base_uri": "https://localhost:8080/"
        }
      },
      "execution_count": null,
      "outputs": [
        {
          "output_type": "execute_result",
          "data": {
            "text/plain": [
              "[1, 'a', 2, 1, 'd']"
            ]
          },
          "metadata": {},
          "execution_count": 135
        }
      ]
    },
    {
      "cell_type": "code",
      "source": [
        "#Cast the following list to a set:\n",
        "set(['A','B','C','A','B','C'])"
      ],
      "metadata": {
        "id": "1fTTnAdaK261",
        "outputId": "2f1f6bad-cbf3-4f64-d99a-40b012e40e92",
        "colab": {
          "base_uri": "https://localhost:8080/"
        }
      },
      "execution_count": null,
      "outputs": [
        {
          "output_type": "execute_result",
          "data": {
            "text/plain": [
              "{'A', 'B', 'C'}"
            ]
          },
          "metadata": {},
          "execution_count": 136
        }
      ]
    },
    {
      "cell_type": "code",
      "source": [
        "#Add an Element to the Set\n",
        "S.add('D')\n",
        "S"
      ],
      "metadata": {
        "id": "vvyWX8cnK7Mb",
        "outputId": "57eff5bc-f777-4850-d593-a932ee932c8a",
        "colab": {
          "base_uri": "https://localhost:8080/"
        }
      },
      "execution_count": null,
      "outputs": [
        {
          "output_type": "execute_result",
          "data": {
            "text/plain": [
              "{'A', 'B', 'C', 'D'}"
            ]
          },
          "metadata": {},
          "execution_count": 137
        }
      ]
    },
    {
      "cell_type": "code",
      "source": [
        "#Find the intersection of set A and B.\n",
        "A={1,2,3,4,5}\n",
        "B={1,3,9, 12}\n",
        "A & B"
      ],
      "metadata": {
        "id": "cckc079CLCfr",
        "outputId": "5dd674c3-e27d-4b01-b024-5e01a14ec341",
        "colab": {
          "base_uri": "https://localhost:8080/"
        }
      },
      "execution_count": null,
      "outputs": [
        {
          "output_type": "execute_result",
          "data": {
            "text/plain": [
              "{1, 3}"
            ]
          },
          "metadata": {},
          "execution_count": 138
        }
      ]
    },
    {
      "cell_type": "code",
      "source": [
        "#Convert the list ['rap','house','electronic music', 'rap'] to a set:\n",
        "set(['rap','house','electronic music','rap'])"
      ],
      "metadata": {
        "id": "tlkfFIVULUPn",
        "outputId": "4aefae80-37df-4327-9b59-e90b282cc569",
        "colab": {
          "base_uri": "https://localhost:8080/"
        }
      },
      "execution_count": null,
      "outputs": [
        {
          "output_type": "execute_result",
          "data": {
            "text/plain": [
              "{'electronic music', 'house', 'rap'}"
            ]
          },
          "metadata": {},
          "execution_count": 139
        }
      ]
    },
    {
      "cell_type": "code",
      "source": [
        "#Consider the list A = [1, 2, 2, 1] and set B = set([1, 2, 2, 1]), does sum(A) == sum(B)?\n",
        "A = [1, 2, 2, 1]  \n",
        "B = set([1, 2, 2, 1])\n",
        "print(\"the sum of A is:\", sum(A))\n",
        "print(\"the sum of B is:\", sum(B))"
      ],
      "metadata": {
        "id": "0WK9CuWeLaWM",
        "outputId": "044db72e-b6cc-4a8c-8ee0-b51a8f6d2972",
        "colab": {
          "base_uri": "https://localhost:8080/"
        }
      },
      "execution_count": null,
      "outputs": [
        {
          "output_type": "stream",
          "name": "stdout",
          "text": [
            "the sum of A is: 6\n",
            "the sum of B is: 3\n"
          ]
        }
      ]
    },
    {
      "cell_type": "code",
      "source": [
        "#Create a new set album_set3 that is the union of album_set1 and album_set2:\n",
        "album_set1 = set([\"Thriller\", 'AC/DC', 'Back in Black'])\n",
        "album_set2 = set([ \"AC/DC\", \"Back in Black\", \"The Dark Side of the Moon\"])\n",
        "album_set3 = album_set1.union(album_set2)\n",
        "album_set3"
      ],
      "metadata": {
        "id": "VsRsgqkwLqDY",
        "outputId": "b0b08d44-cab0-4cf6-e8f8-9eb1888a2523",
        "colab": {
          "base_uri": "https://localhost:8080/"
        }
      },
      "execution_count": null,
      "outputs": [
        {
          "output_type": "execute_result",
          "data": {
            "text/plain": [
              "{'AC/DC', 'Back in Black', 'The Dark Side of the Moon', 'Thriller'}"
            ]
          },
          "metadata": {},
          "execution_count": 141
        }
      ]
    },
    {
      "cell_type": "code",
      "source": [
        "#Find out if album_set1 is a subset of album_set3:\n",
        "album_set1.issubset(album_set3)"
      ],
      "metadata": {
        "id": "KTZ4v-KZLxwq",
        "outputId": "339b3d90-1dc3-4f61-a718-451f90b8d62b",
        "colab": {
          "base_uri": "https://localhost:8080/"
        }
      },
      "execution_count": null,
      "outputs": [
        {
          "output_type": "execute_result",
          "data": {
            "text/plain": [
              "True"
            ]
          },
          "metadata": {},
          "execution_count": 142
        }
      ]
    },
    {
      "cell_type": "code",
      "source": [
        "#Find the value for the key 'a':\n",
        "D={'a':0,'b':1,'c':2}\n",
        "D[\"a\"]"
      ],
      "metadata": {
        "id": "mzgDbbGYMHpH",
        "outputId": "7aff19b1-8590-4998-db73-e7d2fca63a88",
        "colab": {
          "base_uri": "https://localhost:8080/"
        }
      },
      "execution_count": null,
      "outputs": [
        {
          "output_type": "execute_result",
          "data": {
            "text/plain": [
              "0"
            ]
          },
          "metadata": {},
          "execution_count": 143
        }
      ]
    },
    {
      "cell_type": "code",
      "source": [
        "#Find the keys of the dictionary D:\n",
        "D.keys()"
      ],
      "metadata": {
        "id": "0_5yMaNgMPbm",
        "outputId": "b854d953-fed9-4a79-9de1-5bf6c2086629",
        "colab": {
          "base_uri": "https://localhost:8080/"
        }
      },
      "execution_count": null,
      "outputs": [
        {
          "output_type": "execute_result",
          "data": {
            "text/plain": [
              "dict_keys(['a', 'b', 'c'])"
            ]
          },
          "metadata": {},
          "execution_count": 144
        }
      ]
    },
    {
      "cell_type": "code",
      "source": [
        "#a) In the dictionary soundtrack_dic what are the keys ?\n",
        "soundtrack_dic = {\"The Bodyguard\":\"1992\", \"Saturday Night Fever\":\"1977\"} \n",
        "soundtrack_dic.keys()"
      ],
      "metadata": {
        "id": "VutXW7FzMkty",
        "outputId": "b251de98-433f-4c6a-dab8-313ed16d2b5d",
        "colab": {
          "base_uri": "https://localhost:8080/"
        }
      },
      "execution_count": null,
      "outputs": [
        {
          "output_type": "execute_result",
          "data": {
            "text/plain": [
              "dict_keys(['The Bodyguard', 'Saturday Night Fever'])"
            ]
          },
          "metadata": {},
          "execution_count": 145
        }
      ]
    },
    {
      "cell_type": "code",
      "source": [
        "#b) In the dictionary soundtrack_dic what are the values ?\n",
        "soundtrack_dic.values()"
      ],
      "metadata": {
        "id": "5wloWlvIMvtx",
        "outputId": "6a71b48f-92ad-4cd1-a0eb-3fdb4f0c9dad",
        "colab": {
          "base_uri": "https://localhost:8080/"
        }
      },
      "execution_count": null,
      "outputs": [
        {
          "output_type": "execute_result",
          "data": {
            "text/plain": [
              "dict_values(['1992', '1977'])"
            ]
          },
          "metadata": {},
          "execution_count": 146
        }
      ]
    },
    {
      "cell_type": "code",
      "source": [
        "#a) Create a dictionary album_sales_dict where the keys are the album name and the sales in millions are the values.\n",
        "album_sales_dict = {\"The Bodyguard\":50, \"Back in Black\":50, \"Thriller\":65}\n",
        "#b) Use the dictionary to find the total sales of Thriller:\n",
        "album_sales_dict[\"Thriller\"]"
      ],
      "metadata": {
        "id": "Hc0P72WdM70y",
        "outputId": "b76f488e-91eb-4198-9071-4b3c2b8d3e2d",
        "colab": {
          "base_uri": "https://localhost:8080/"
        }
      },
      "execution_count": null,
      "outputs": [
        {
          "output_type": "execute_result",
          "data": {
            "text/plain": [
              "65"
            ]
          },
          "metadata": {},
          "execution_count": 147
        }
      ]
    },
    {
      "cell_type": "code",
      "source": [
        "#c) Find the names of the albums from the dictionary using the method keys():\n",
        "album_sales_dict.keys()"
      ],
      "metadata": {
        "id": "cwljkOPtNO0l",
        "outputId": "b9199261-f4e6-4b94-fc8d-81465a130f13",
        "colab": {
          "base_uri": "https://localhost:8080/"
        }
      },
      "execution_count": null,
      "outputs": [
        {
          "output_type": "execute_result",
          "data": {
            "text/plain": [
              "dict_keys(['The Bodyguard', 'Back in Black', 'Thriller'])"
            ]
          },
          "metadata": {},
          "execution_count": 148
        }
      ]
    },
    {
      "cell_type": "code",
      "source": [
        "#d) Find the values of the recording sales from the dictionary using the method values:\n",
        "album_sales_dict.values()"
      ],
      "metadata": {
        "id": "YXH9HtGJNXW4",
        "outputId": "6b761719-8cce-4c6a-b5df-c6771e806ba8",
        "colab": {
          "base_uri": "https://localhost:8080/"
        }
      },
      "execution_count": null,
      "outputs": [
        {
          "output_type": "execute_result",
          "data": {
            "text/plain": [
              "dict_values([50, 50, 65])"
            ]
          },
          "metadata": {},
          "execution_count": 149
        }
      ]
    },
    {
      "cell_type": "markdown",
      "source": [
        "Module 3 - Python Programming Fundamentals"
      ],
      "metadata": {
        "id": "vR6hrOUCwjZ6"
      }
    },
    {
      "cell_type": "code",
      "source": [
        "a=9\n",
        "a==9"
      ],
      "metadata": {
        "colab": {
          "base_uri": "https://localhost:8080/"
        },
        "id": "c_bvyln5w5af",
        "outputId": "51a9e4fb-9b5b-49f0-d68c-4889ca0d414a"
      },
      "execution_count": null,
      "outputs": [
        {
          "output_type": "execute_result",
          "data": {
            "text/plain": [
              "True"
            ]
          },
          "metadata": {},
          "execution_count": 67
        }
      ]
    },
    {
      "cell_type": "code",
      "source": [
        "a>8"
      ],
      "metadata": {
        "colab": {
          "base_uri": "https://localhost:8080/"
        },
        "id": "bzFPC3ONyfw2",
        "outputId": "f7ed891b-f5a8-4227-ba03-7a510ab62867"
      },
      "execution_count": null,
      "outputs": [
        {
          "output_type": "execute_result",
          "data": {
            "text/plain": [
              "True"
            ]
          },
          "metadata": {},
          "execution_count": 68
        }
      ]
    },
    {
      "cell_type": "code",
      "source": [
        "\"Hola\" != \"Mundo\""
      ],
      "metadata": {
        "colab": {
          "base_uri": "https://localhost:8080/"
        },
        "id": "cwm4nLSV4Rdd",
        "outputId": "bdde3962-ec4d-433d-d2f9-a94539956845"
      },
      "execution_count": null,
      "outputs": [
        {
          "output_type": "execute_result",
          "data": {
            "text/plain": [
              "True"
            ]
          },
          "metadata": {},
          "execution_count": 69
        }
      ]
    },
    {
      "cell_type": "code",
      "source": [
        "age=19\n",
        "if(age > 18):\n",
        "  print(\"you can enter\")\n",
        "print(\"move on\")"
      ],
      "metadata": {
        "colab": {
          "base_uri": "https://localhost:8080/"
        },
        "id": "lhvlBR3w4smw",
        "outputId": "74990791-58ed-4432-acf8-bd335765b531"
      },
      "execution_count": null,
      "outputs": [
        {
          "output_type": "stream",
          "name": "stdout",
          "text": [
            "you can enter\n",
            "move on\n"
          ]
        }
      ]
    },
    {
      "cell_type": "code",
      "source": [
        "age=7\n",
        "if(age > 18):\n",
        "  print(\"you can enter\")\n",
        "print(\"move on\")"
      ],
      "metadata": {
        "colab": {
          "base_uri": "https://localhost:8080/"
        },
        "id": "3Y4Ms3S54_wE",
        "outputId": "d9316b05-4d83-44c8-af52-a0839b767bba"
      },
      "execution_count": null,
      "outputs": [
        {
          "output_type": "stream",
          "name": "stdout",
          "text": [
            "move on\n"
          ]
        }
      ]
    },
    {
      "cell_type": "code",
      "source": [
        "age=17\n",
        "if(age > 18):\n",
        "  print(\"you can enter\")\n",
        "else:\n",
        "  print(\"you can not enter\")"
      ],
      "metadata": {
        "colab": {
          "base_uri": "https://localhost:8080/"
        },
        "id": "FGpVcHmp5Ded",
        "outputId": "e71e30ac-c0e2-458a-8082-da5ce1a5a5be"
      },
      "execution_count": null,
      "outputs": [
        {
          "output_type": "stream",
          "name": "stdout",
          "text": [
            "you can not enter\n"
          ]
        }
      ]
    },
    {
      "cell_type": "code",
      "source": [
        "age=17\n",
        "if(age > 18):\n",
        "  print(\"you can enter\")\n",
        "elif(age==18):\n",
        "  print(\"go see Pink Floyd\")\n",
        "else:\n",
        "  print(\"goo see Meat Loaf\")"
      ],
      "metadata": {
        "colab": {
          "base_uri": "https://localhost:8080/"
        },
        "id": "UYF2lZK_55cS",
        "outputId": "5b4642dc-91c2-4802-ed9d-e1f3d311d729"
      },
      "execution_count": null,
      "outputs": [
        {
          "output_type": "stream",
          "name": "stdout",
          "text": [
            "goo see Meat Loaf\n"
          ]
        }
      ]
    },
    {
      "cell_type": "code",
      "source": [
        "not(True)"
      ],
      "metadata": {
        "colab": {
          "base_uri": "https://localhost:8080/"
        },
        "id": "rpCAJ12m6nH4",
        "outputId": "895a5a8b-3eca-42e4-c395-4910c22a9370"
      },
      "execution_count": null,
      "outputs": [
        {
          "output_type": "execute_result",
          "data": {
            "text/plain": [
              "False"
            ]
          },
          "metadata": {},
          "execution_count": 75
        }
      ]
    },
    {
      "cell_type": "code",
      "source": [
        "True or False"
      ],
      "metadata": {
        "colab": {
          "base_uri": "https://localhost:8080/"
        },
        "id": "Bq8J7vWD6sJr",
        "outputId": "a5824255-81cd-4655-ff49-ee4e1bcf0f78"
      },
      "execution_count": null,
      "outputs": [
        {
          "output_type": "execute_result",
          "data": {
            "text/plain": [
              "True"
            ]
          },
          "metadata": {},
          "execution_count": 76
        }
      ]
    },
    {
      "cell_type": "code",
      "source": [
        "True & True"
      ],
      "metadata": {
        "colab": {
          "base_uri": "https://localhost:8080/"
        },
        "id": "4PZjkJOo6wo_",
        "outputId": "923e3221-44c8-4f2a-ae8b-b1ef2e9c692b"
      },
      "execution_count": null,
      "outputs": [
        {
          "output_type": "execute_result",
          "data": {
            "text/plain": [
              "True"
            ]
          },
          "metadata": {},
          "execution_count": 78
        }
      ]
    },
    {
      "cell_type": "markdown",
      "source": [
        "Skills Network Labs"
      ],
      "metadata": {
        "id": "LpSc-QFiZGSA"
      }
    },
    {
      "cell_type": "code",
      "source": [
        "#Find the value of i that produces a True:\n",
        "i=5\n",
        "i!=0"
      ],
      "metadata": {
        "id": "6nzGkhWNZLc8",
        "outputId": "4636979e-ae8d-4ac9-99e3-2780188d42aa",
        "colab": {
          "base_uri": "https://localhost:8080/"
        }
      },
      "execution_count": 1,
      "outputs": [
        {
          "output_type": "execute_result",
          "data": {
            "text/plain": [
              "True"
            ]
          },
          "metadata": {},
          "execution_count": 1
        }
      ]
    },
    {
      "cell_type": "code",
      "source": [
        "#Find the value of x that prints the statement \"this is a\":\n",
        "x = 'a'\n",
        "if(x=='a'):\n",
        "    print(\"this is a\")\n",
        "else:\n",
        "    print(\"this is  not a\")"
      ],
      "metadata": {
        "id": "5Yog4-e8ZX8n",
        "outputId": "a7d0c0f1-5688-432f-e387-b0ed9267dcdd",
        "colab": {
          "base_uri": "https://localhost:8080/"
        }
      },
      "execution_count": 3,
      "outputs": [
        {
          "output_type": "stream",
          "name": "stdout",
          "text": [
            "this is a\n"
          ]
        }
      ]
    },
    {
      "cell_type": "code",
      "source": [
        "#Find the value of y that produces a True statement:\n",
        "y = 0\n",
        "x =1\n",
        "x>0 and y<10"
      ],
      "metadata": {
        "id": "UIVGsuIRZiDA",
        "outputId": "c6dcb8ea-eeb6-4eeb-ba86-268fb48cfcf4",
        "colab": {
          "base_uri": "https://localhost:8080/"
        }
      },
      "execution_count": 4,
      "outputs": [
        {
          "output_type": "execute_result",
          "data": {
            "text/plain": [
              "True"
            ]
          },
          "metadata": {},
          "execution_count": 4
        }
      ]
    },
    {
      "cell_type": "code",
      "source": [
        "#Write an if statement to determine if an album had a rating greater than 8. \n",
        "#Test it using the rating for the album “Back in Black” that had a rating of 8.5. \n",
        "#If the statement is true print \"This album is Amazing!\"\n",
        "rating = 9\n",
        "if rating > 8:\n",
        "    print(\"This album is Amazing!\")"
      ],
      "metadata": {
        "id": "7RqNE52VZ3m5",
        "outputId": "2babec32-35c7-47c6-d1c9-79c9f06cfb18",
        "colab": {
          "base_uri": "https://localhost:8080/"
        }
      },
      "execution_count": 6,
      "outputs": [
        {
          "output_type": "stream",
          "name": "stdout",
          "text": [
            "This album is Amazing!\n"
          ]
        }
      ]
    },
    {
      "cell_type": "code",
      "source": [
        "#Write an if-else statement that performs the following. \n",
        "#If the rating is larger then eight print “this album is amazing”. \n",
        "#If the rating is less than or equal to 8 print “this album is ok”.\n",
        "rating = 5\n",
        "if rating > 8:\n",
        "    print(\"this album is amazing\")\n",
        "else:\n",
        "    print(\"this album is ok\")"
      ],
      "metadata": {
        "id": "3plOb7m2aL5o",
        "outputId": "68ae1bb8-2a31-4b54-c732-fe2764db2865",
        "colab": {
          "base_uri": "https://localhost:8080/"
        }
      },
      "execution_count": 8,
      "outputs": [
        {
          "output_type": "stream",
          "name": "stdout",
          "text": [
            "this album is ok\n"
          ]
        }
      ]
    },
    {
      "cell_type": "code",
      "source": [
        "#Write an if statement to determine if an album came out before 1980 or in the years: 1991 or 1993. \n",
        "#If the condition is true print out the year the album came out.\n",
        "year = 1993\n",
        "\n",
        "if year < 1980 or year == 1991 or year == 1993:\n",
        "    print(\"This album came out in year\", year)"
      ],
      "metadata": {
        "id": "RMVdZouZaexE",
        "outputId": "4304e089-caa5-4abf-d9c9-24c46c0a4c24",
        "colab": {
          "base_uri": "https://localhost:8080/"
        }
      },
      "execution_count": 12,
      "outputs": [
        {
          "output_type": "stream",
          "name": "stdout",
          "text": [
            "This album came out in year 1993\n"
          ]
        }
      ]
    },
    {
      "cell_type": "code",
      "source": [
        "#Use loops to print out the elements in the list A:\n",
        "A=[3,4,5]\n",
        "for number in A:\n",
        "  print(number)"
      ],
      "metadata": {
        "id": "NJC6aUt9bWuj",
        "outputId": "0cb01354-4e01-449a-e7fb-be47578e7b29",
        "colab": {
          "base_uri": "https://localhost:8080/"
        }
      },
      "execution_count": 13,
      "outputs": [
        {
          "output_type": "stream",
          "name": "stdout",
          "text": [
            "3\n",
            "4\n",
            "5\n"
          ]
        }
      ]
    },
    {
      "cell_type": "code",
      "source": [
        "#Find the value of  x  that will print out the sequence  1,2,..,10 :\n",
        "while x < 11:\n",
        "  print(x)\n",
        "  x += 1 "
      ],
      "metadata": {
        "id": "fZ-joA1Bb0g-",
        "outputId": "49dbbc5a-af43-44cc-9f12-1e3463e721dd",
        "colab": {
          "base_uri": "https://localhost:8080/"
        }
      },
      "execution_count": 15,
      "outputs": [
        {
          "output_type": "stream",
          "name": "stdout",
          "text": [
            "1\n",
            "2\n",
            "3\n",
            "4\n",
            "5\n",
            "6\n",
            "7\n",
            "8\n",
            "9\n",
            "10\n"
          ]
        }
      ]
    },
    {
      "cell_type": "code",
      "source": [
        "x=3\n",
        "\n",
        "y=1\n",
        "\n",
        "while(y!=x):\n",
        "\n",
        "  print(y)\n",
        "\n",
        "  y=y+1"
      ],
      "metadata": {
        "id": "gJFAjRtDcH05",
        "outputId": "00a20b5c-95ea-4c23-fc81-1956af3aafdb",
        "colab": {
          "base_uri": "https://localhost:8080/"
        }
      },
      "execution_count": 16,
      "outputs": [
        {
          "output_type": "stream",
          "name": "stdout",
          "text": [
            "1\n",
            "2\n"
          ]
        }
      ]
    },
    {
      "cell_type": "code",
      "source": [
        "#Write a for loop the prints out all the element between -5 and 5 using the range function.\n",
        "for i in range(-4, 5):\n",
        "  print(i)"
      ],
      "metadata": {
        "id": "ZllbRsPzcX8S",
        "outputId": "9403663f-2939-43a3-cdae-423baf94385d",
        "colab": {
          "base_uri": "https://localhost:8080/"
        }
      },
      "execution_count": 18,
      "outputs": [
        {
          "output_type": "stream",
          "name": "stdout",
          "text": [
            "-4\n",
            "-3\n",
            "-2\n",
            "-1\n",
            "0\n",
            "1\n",
            "2\n",
            "3\n",
            "4\n"
          ]
        }
      ]
    },
    {
      "cell_type": "code",
      "source": [
        "#Print the elements of the following \n",
        "#list: Genres=[ 'rock', 'R&B', 'Soundtrack', 'R&B', 'soul', 'pop'] Make sure you follow Python conventions.\n",
        "Genres = ['rock', 'R&B', 'Soundtrack', 'R&B', 'soul', 'pop']\n",
        "for Genre in Genres:\n",
        "    print(Genre)"
      ],
      "metadata": {
        "id": "n8wndusqczBx",
        "outputId": "ce439781-6574-4378-af30-4242a0e99706",
        "colab": {
          "base_uri": "https://localhost:8080/"
        }
      },
      "execution_count": 19,
      "outputs": [
        {
          "output_type": "stream",
          "name": "stdout",
          "text": [
            "rock\n",
            "R&B\n",
            "Soundtrack\n",
            "R&B\n",
            "soul\n",
            "pop\n"
          ]
        }
      ]
    },
    {
      "cell_type": "code",
      "source": [
        "#Write a for loop that prints out the following list: squares=['red', 'yellow', 'green', 'purple', 'blue']\n",
        "squares=['red', 'yellow', 'green', 'purple', 'blue']\n",
        "for square in squares:\n",
        "    print(square)"
      ],
      "metadata": {
        "id": "cW-_CSX1c--2",
        "outputId": "730afd55-b920-4624-99be-7015caa72ee8",
        "colab": {
          "base_uri": "https://localhost:8080/"
        }
      },
      "execution_count": 20,
      "outputs": [
        {
          "output_type": "stream",
          "name": "stdout",
          "text": [
            "red\n",
            "yellow\n",
            "green\n",
            "purple\n",
            "blue\n"
          ]
        }
      ]
    },
    {
      "cell_type": "code",
      "source": [
        "#Write a while loop to display the values of the Rating of an album playlist stored in the list PlayListRatings. \n",
        "#If the score is less than 6, exit the loop. \n",
        "#The list PlayListRatings is given by: PlayListRatings = [10, 9.5, 10, 8, 7.5, 5, 10, 10]\n",
        "PlayListRatings = [10, 9.5, 10, 8, 7.5, 5, 10, 10]\n",
        "index = 0\n",
        "while PlayListRatings[index] >= 6 and index < len(PlayListRatings):\n",
        "    print(PlayListRatings[index])\n",
        "    index += 1"
      ],
      "metadata": {
        "id": "iyxECsrDdJ0S",
        "outputId": "30c260d6-8715-4949-a5b6-e0162764bf0d",
        "colab": {
          "base_uri": "https://localhost:8080/"
        }
      },
      "execution_count": 22,
      "outputs": [
        {
          "output_type": "stream",
          "name": "stdout",
          "text": [
            "10\n",
            "9.5\n",
            "10\n",
            "8\n",
            "7.5\n"
          ]
        }
      ]
    },
    {
      "cell_type": "code",
      "source": [
        "#Write a while loop to copy the strings 'orange' of the list squares to the list new_squares. \n",
        "#Stop and exit the loop if the value on the list is not 'orange':\n",
        "squares = ['orange', 'orange', 'purple', 'blue ', 'orange']\n",
        "new_squares = []\n",
        "\n",
        "index = 0\n",
        "while index < len(squares) and squares[index] == 'orange':\n",
        "  new_squares.append(squares[index])\n",
        "  index += 1\n",
        "new_squares"
      ],
      "metadata": {
        "id": "7ZPgua8ZeU4T",
        "outputId": "16d5e085-5372-4222-f4d9-6de3f32f0505",
        "colab": {
          "base_uri": "https://localhost:8080/"
        }
      },
      "execution_count": 24,
      "outputs": [
        {
          "output_type": "execute_result",
          "data": {
            "text/plain": [
              "['orange', 'orange']"
            ]
          },
          "metadata": {},
          "execution_count": 24
        }
      ]
    },
    {
      "cell_type": "code",
      "source": [
        "#Complete the function  f  so that it returns the product of a and b. Use the next cell to test the function.\n",
        "def f(a,b):\n",
        "    return a*b\n",
        "\n",
        "#Test the function using the next cell:\n",
        "a=6\n",
        "b=9\n",
        "\n",
        "if a*b==f(a,b):   \n",
        "    print(\"Correct.\")   \n",
        "else:    \n",
        "    print(\"Incorrect.\")"
      ],
      "metadata": {
        "id": "hKb9oT-ykCKi",
        "outputId": "95b2fdf4-36a6-4aa2-9e93-2f2e758d93f0",
        "colab": {
          "base_uri": "https://localhost:8080/"
        }
      },
      "execution_count": 28,
      "outputs": [
        {
          "output_type": "stream",
          "name": "stdout",
          "text": [
            "Correct.\n"
          ]
        }
      ]
    },
    {
      "cell_type": "code",
      "source": [
        "#Complete the function g such that the input c is a list of integers and the output is the sum of all the elements in the list.\n",
        "def g(c):\n",
        "    return sum(c)\n",
        "\n",
        "c=[1,2,3,4,5]\n",
        "\n",
        "if sum(c)==g(c):   \n",
        "    print(\"Correct.\")   \n",
        "else:    \n",
        "    print(\"Incorrect.\")"
      ],
      "metadata": {
        "id": "dJoI8JTCkO-4",
        "outputId": "7c879b34-b060-4754-b962-1dbf54be9a81",
        "colab": {
          "base_uri": "https://localhost:8080/"
        }
      },
      "execution_count": 29,
      "outputs": [
        {
          "output_type": "stream",
          "name": "stdout",
          "text": [
            "Correct.\n"
          ]
        }
      ]
    },
    {
      "cell_type": "code",
      "source": [
        "#Come up with a function that divides the first input by the second input:\n",
        "def divide(a,b):\n",
        "    return a/b\n",
        "\n",
        "divide(25,5)"
      ],
      "metadata": {
        "id": "a8gpntVBlBJR",
        "outputId": "31573aaa-35f3-46b7-e9da-022719e6d070",
        "colab": {
          "base_uri": "https://localhost:8080/"
        }
      },
      "execution_count": 35,
      "outputs": [
        {
          "output_type": "execute_result",
          "data": {
            "text/plain": [
              "5.0"
            ]
          },
          "metadata": {},
          "execution_count": 35
        }
      ]
    },
    {
      "cell_type": "code",
      "source": [
        "def con(a, b):\n",
        "    return(a + b)\n",
        "\n",
        "con(['a', 1], ['b', 1])"
      ],
      "metadata": {
        "id": "mtlSiytemaZK",
        "outputId": "fda4d181-97d9-4292-9ccf-00b760833c40",
        "colab": {
          "base_uri": "https://localhost:8080/"
        }
      },
      "execution_count": 36,
      "outputs": [
        {
          "output_type": "execute_result",
          "data": {
            "text/plain": [
              "['a', 1, 'b', 1]"
            ]
          },
          "metadata": {},
          "execution_count": 36
        }
      ]
    }
  ]
}