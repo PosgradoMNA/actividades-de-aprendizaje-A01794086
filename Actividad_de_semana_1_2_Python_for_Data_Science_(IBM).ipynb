{
  "nbformat": 4,
  "nbformat_minor": 0,
  "metadata": {
    "colab": {
      "provenance": [],
      "authorship_tag": "ABX9TyPTVCfQT2y+HH+U77JJ92VC",
      "include_colab_link": true
    },
    "kernelspec": {
      "name": "python3",
      "display_name": "Python 3"
    },
    "language_info": {
      "name": "python"
    }
  },
  "cells": [
    {
      "cell_type": "markdown",
      "metadata": {
        "id": "view-in-github",
        "colab_type": "text"
      },
      "source": [
        "<a href=\"https://colab.research.google.com/github/PosgradoMNA/actividades-de-aprendizaje-A01794086/blob/development/Actividad_de_semana_1_2_Python_for_Data_Science_(IBM).ipynb\" target=\"_parent\"><img src=\"https://colab.research.google.com/assets/colab-badge.svg\" alt=\"Open In Colab\"/></a>"
      ]
    },
    {
      "cell_type": "markdown",
      "source": [
        "Module 1 - Python Basics"
      ],
      "metadata": {
        "id": "LmnqKrEfA3Bb"
      }
    },
    {
      "cell_type": "code",
      "execution_count": null,
      "metadata": {
        "colab": {
          "base_uri": "https://localhost:8080/"
        },
        "id": "2BEEYJolTgon",
        "outputId": "0dc84ae0-1af0-4817-8599-e5f0bec40b45"
      },
      "outputs": [
        {
          "output_type": "stream",
          "name": "stdout",
          "text": [
            "Hello World!\n"
          ]
        }
      ],
      "source": [
        "# My first program\n",
        "print('Hello World!')"
      ]
    },
    {
      "cell_type": "code",
      "source": [
        "# Types\n",
        "type(10)"
      ],
      "metadata": {
        "colab": {
          "base_uri": "https://localhost:8080/"
        },
        "id": "x3GzL_5lVCWq",
        "outputId": "9f702b54-55e5-40ca-9d20-f963b3351c2e"
      },
      "execution_count": null,
      "outputs": [
        {
          "output_type": "execute_result",
          "data": {
            "text/plain": [
              "int"
            ]
          },
          "metadata": {},
          "execution_count": 8
        }
      ]
    },
    {
      "cell_type": "code",
      "source": [
        "type(1.4)"
      ],
      "metadata": {
        "colab": {
          "base_uri": "https://localhost:8080/"
        },
        "id": "UqVH-dO_WKIf",
        "outputId": "3933c5ea-df17-4358-a175-ffbcb8402606"
      },
      "execution_count": null,
      "outputs": [
        {
          "output_type": "execute_result",
          "data": {
            "text/plain": [
              "float"
            ]
          },
          "metadata": {},
          "execution_count": 9
        }
      ]
    },
    {
      "cell_type": "code",
      "source": [
        "type(\"Something\")"
      ],
      "metadata": {
        "colab": {
          "base_uri": "https://localhost:8080/"
        },
        "id": "wQF1rBk4WJbE",
        "outputId": "76a81df4-cd61-4b6c-bb34-67a5821ed034"
      },
      "execution_count": null,
      "outputs": [
        {
          "output_type": "execute_result",
          "data": {
            "text/plain": [
              "str"
            ]
          },
          "metadata": {},
          "execution_count": 10
        }
      ]
    },
    {
      "cell_type": "code",
      "source": [
        "float(3)"
      ],
      "metadata": {
        "colab": {
          "base_uri": "https://localhost:8080/"
        },
        "id": "M2lM1BuXWbGp",
        "outputId": "aaec1ba5-f4cc-4901-e42e-91421cbf5bec"
      },
      "execution_count": null,
      "outputs": [
        {
          "output_type": "execute_result",
          "data": {
            "text/plain": [
              "3.0"
            ]
          },
          "metadata": {},
          "execution_count": 11
        }
      ]
    },
    {
      "cell_type": "code",
      "source": [
        "int(1.0)"
      ],
      "metadata": {
        "colab": {
          "base_uri": "https://localhost:8080/"
        },
        "id": "Dtm_tVx7WnBD",
        "outputId": "685ddf53-13dc-40a5-c7f0-efda2faca450"
      },
      "execution_count": null,
      "outputs": [
        {
          "output_type": "execute_result",
          "data": {
            "text/plain": [
              "1"
            ]
          },
          "metadata": {},
          "execution_count": 17
        }
      ]
    },
    {
      "cell_type": "code",
      "source": [
        "int('70')"
      ],
      "metadata": {
        "colab": {
          "base_uri": "https://localhost:8080/"
        },
        "id": "T0WaIFEWWpHh",
        "outputId": "33b9ddb7-8ae5-4651-b8f0-a61348fcc19a"
      },
      "execution_count": null,
      "outputs": [
        {
          "output_type": "execute_result",
          "data": {
            "text/plain": [
              "70"
            ]
          },
          "metadata": {},
          "execution_count": 13
        }
      ]
    },
    {
      "cell_type": "code",
      "source": [
        "str(90)"
      ],
      "metadata": {
        "colab": {
          "base_uri": "https://localhost:8080/",
          "height": 37
        },
        "id": "Xvs6u6bMWu1L",
        "outputId": "4a21a3c9-da93-4eb4-8483-c722aa96a7c8"
      },
      "execution_count": null,
      "outputs": [
        {
          "output_type": "execute_result",
          "data": {
            "text/plain": [
              "'90'"
            ],
            "application/vnd.google.colaboratory.intrinsic+json": {
              "type": "string"
            }
          },
          "metadata": {},
          "execution_count": 14
        }
      ]
    },
    {
      "cell_type": "code",
      "source": [
        "type(True)"
      ],
      "metadata": {
        "colab": {
          "base_uri": "https://localhost:8080/"
        },
        "id": "gHLgOxk0Xf8R",
        "outputId": "11fcb1e6-026b-4d1b-a0b8-fdd9cb3e1af1"
      },
      "execution_count": null,
      "outputs": [
        {
          "output_type": "execute_result",
          "data": {
            "text/plain": [
              "bool"
            ]
          },
          "metadata": {},
          "execution_count": 15
        }
      ]
    },
    {
      "cell_type": "code",
      "source": [
        "bool(1)"
      ],
      "metadata": {
        "colab": {
          "base_uri": "https://localhost:8080/"
        },
        "id": "6WHQ6i0BXofY",
        "outputId": "8838993c-5cc1-4bed-d774-b9e961ffa91f"
      },
      "execution_count": null,
      "outputs": [
        {
          "output_type": "execute_result",
          "data": {
            "text/plain": [
              "True"
            ]
          },
          "metadata": {},
          "execution_count": 16
        }
      ]
    },
    {
      "cell_type": "code",
      "source": [
        "# Expressions and Variables"
      ],
      "metadata": {
        "id": "dLATVIM9ZSnr"
      },
      "execution_count": null,
      "outputs": []
    },
    {
      "cell_type": "code",
      "source": [
        "150 * 9"
      ],
      "metadata": {
        "colab": {
          "base_uri": "https://localhost:8080/"
        },
        "id": "hCu3T_CZZbxZ",
        "outputId": "e2c3e371-9b5e-44b6-b958-737aeb3a37a9"
      },
      "execution_count": null,
      "outputs": [
        {
          "output_type": "execute_result",
          "data": {
            "text/plain": [
              "1350"
            ]
          },
          "metadata": {},
          "execution_count": 18
        }
      ]
    },
    {
      "cell_type": "code",
      "source": [
        "56/2"
      ],
      "metadata": {
        "colab": {
          "base_uri": "https://localhost:8080/"
        },
        "id": "NMglQ_70ZmAm",
        "outputId": "9a3daa4f-f7bf-4319-b6c6-83d0f23e5e1d"
      },
      "execution_count": null,
      "outputs": [
        {
          "output_type": "execute_result",
          "data": {
            "text/plain": [
              "28.0"
            ]
          },
          "metadata": {},
          "execution_count": 19
        }
      ]
    },
    {
      "cell_type": "code",
      "source": [
        "56//2"
      ],
      "metadata": {
        "colab": {
          "base_uri": "https://localhost:8080/"
        },
        "id": "R6-4qchyZyvk",
        "outputId": "cd3603d1-2f51-4fa8-b08c-c3c75341ed2a"
      },
      "execution_count": null,
      "outputs": [
        {
          "output_type": "execute_result",
          "data": {
            "text/plain": [
              "28"
            ]
          },
          "metadata": {},
          "execution_count": 20
        }
      ]
    },
    {
      "cell_type": "code",
      "source": [
        "3*9+4/9+(3+5)"
      ],
      "metadata": {
        "colab": {
          "base_uri": "https://localhost:8080/"
        },
        "id": "iLVafmmfZ-Zz",
        "outputId": "29d89dc7-1752-4a21-a34a-14f771383f68"
      },
      "execution_count": null,
      "outputs": [
        {
          "output_type": "execute_result",
          "data": {
            "text/plain": [
              "35.44444444444444"
            ]
          },
          "metadata": {},
          "execution_count": 21
        }
      ]
    },
    {
      "cell_type": "code",
      "source": [
        "first_variable = 10"
      ],
      "metadata": {
        "id": "cSz6axWiaQj5"
      },
      "execution_count": null,
      "outputs": []
    },
    {
      "cell_type": "code",
      "source": [
        "first_variable:100"
      ],
      "metadata": {
        "id": "xYycMY-3aaP1"
      },
      "execution_count": null,
      "outputs": []
    },
    {
      "cell_type": "code",
      "source": [
        "print(first_variable)"
      ],
      "metadata": {
        "colab": {
          "base_uri": "https://localhost:8080/"
        },
        "id": "gVRBVTRoalEL",
        "outputId": "165f2ccc-00fe-4d88-e750-9e0eb35abf21"
      },
      "execution_count": null,
      "outputs": [
        {
          "output_type": "stream",
          "name": "stdout",
          "text": [
            "10\n"
          ]
        }
      ]
    },
    {
      "cell_type": "code",
      "source": [
        "# String Operations"
      ],
      "metadata": {
        "id": "Ip6wWC6hdnYQ"
      },
      "execution_count": null,
      "outputs": []
    },
    {
      "cell_type": "code",
      "source": [
        "print(\"Hello \" + 'world!')"
      ],
      "metadata": {
        "colab": {
          "base_uri": "https://localhost:8080/"
        },
        "id": "aHKs1gOcd6kR",
        "outputId": "860c6893-20bb-4720-bec2-0c10f00977c8"
      },
      "execution_count": null,
      "outputs": [
        {
          "output_type": "stream",
          "name": "stdout",
          "text": [
            "Hello world!\n"
          ]
        }
      ]
    },
    {
      "cell_type": "code",
      "source": [
        "name = \"Rey David Guzmán\""
      ],
      "metadata": {
        "id": "fIoRJd4Texzg"
      },
      "execution_count": null,
      "outputs": []
    },
    {
      "cell_type": "code",
      "source": [
        "print(\"Test: \" + name[-1] + \" \" + name[15])"
      ],
      "metadata": {
        "colab": {
          "base_uri": "https://localhost:8080/"
        },
        "id": "ODRLkfHCe7L3",
        "outputId": "7ca09f8a-8387-45e1-f758-9c0ea019d7ca"
      },
      "execution_count": null,
      "outputs": [
        {
          "output_type": "stream",
          "name": "stdout",
          "text": [
            "Test: n n\n"
          ]
        }
      ]
    },
    {
      "cell_type": "code",
      "source": [
        "print(name[0:3])"
      ],
      "metadata": {
        "colab": {
          "base_uri": "https://localhost:8080/"
        },
        "id": "6iN9_nxrfgsr",
        "outputId": "9375dad7-6546-4f16-a68d-78fb371bc300"
      },
      "execution_count": null,
      "outputs": [
        {
          "output_type": "stream",
          "name": "stdout",
          "text": [
            "Rey\n"
          ]
        }
      ]
    },
    {
      "cell_type": "code",
      "source": [
        "print(name[::4])"
      ],
      "metadata": {
        "colab": {
          "base_uri": "https://localhost:8080/"
        },
        "id": "NZOEOUJifrVs",
        "outputId": "a3aa2c6d-61a6-43f0-bb4c-831094cc4e1c"
      },
      "execution_count": null,
      "outputs": [
        {
          "output_type": "stream",
          "name": "stdout",
          "text": [
            "RDdz\n"
          ]
        }
      ]
    },
    {
      "cell_type": "code",
      "source": [
        "len(name)"
      ],
      "metadata": {
        "colab": {
          "base_uri": "https://localhost:8080/"
        },
        "id": "65m5LzpmgBTw",
        "outputId": "a07ea1d0-bf04-49d9-a1f1-cda9e1b0422b"
      },
      "execution_count": null,
      "outputs": [
        {
          "output_type": "execute_result",
          "data": {
            "text/plain": [
              "16"
            ]
          },
          "metadata": {},
          "execution_count": 42
        }
      ]
    },
    {
      "cell_type": "code",
      "source": [
        "new_string = \"This is\\n a new\\tstring\""
      ],
      "metadata": {
        "id": "qT1eajQMgaVY"
      },
      "execution_count": null,
      "outputs": []
    },
    {
      "cell_type": "code",
      "source": [
        "print(new_string)"
      ],
      "metadata": {
        "colab": {
          "base_uri": "https://localhost:8080/"
        },
        "id": "R31AJhKxgqL_",
        "outputId": "48f2f30b-bfe3-41ee-94f8-4f56a34766d3"
      },
      "execution_count": null,
      "outputs": [
        {
          "output_type": "stream",
          "name": "stdout",
          "text": [
            "This is\n",
            " a new\tstring\n"
          ]
        }
      ]
    },
    {
      "cell_type": "code",
      "source": [
        "print(name.upper())"
      ],
      "metadata": {
        "colab": {
          "base_uri": "https://localhost:8080/"
        },
        "id": "MxpycV_Vg2l6",
        "outputId": "9e65edc1-d6b6-4d7f-dc0b-6a23aa8e4207"
      },
      "execution_count": null,
      "outputs": [
        {
          "output_type": "stream",
          "name": "stdout",
          "text": [
            "REY DAVID GUZMÁN\n"
          ]
        }
      ]
    },
    {
      "cell_type": "code",
      "source": [
        "new_name = name.replace('Guzmán', 'Guzman')"
      ],
      "metadata": {
        "id": "F1rQTZydhLi0"
      },
      "execution_count": null,
      "outputs": []
    },
    {
      "cell_type": "code",
      "source": [
        "print(new_name)"
      ],
      "metadata": {
        "colab": {
          "base_uri": "https://localhost:8080/"
        },
        "id": "sF3iAtuoheTp",
        "outputId": "52ec208d-93af-411a-de56-2c9b275909f6"
      },
      "execution_count": null,
      "outputs": [
        {
          "output_type": "stream",
          "name": "stdout",
          "text": [
            "Rey David Guzman\n"
          ]
        }
      ]
    },
    {
      "cell_type": "code",
      "source": [
        "name.find('David')"
      ],
      "metadata": {
        "colab": {
          "base_uri": "https://localhost:8080/"
        },
        "id": "Eh5oudjrhnWH",
        "outputId": "3398ad2c-7dd6-43f6-bb87-e333552d7c56"
      },
      "execution_count": null,
      "outputs": [
        {
          "output_type": "execute_result",
          "data": {
            "text/plain": [
              "4"
            ]
          },
          "metadata": {},
          "execution_count": 49
        }
      ]
    },
    {
      "cell_type": "code",
      "source": [
        "name.find('w')"
      ],
      "metadata": {
        "colab": {
          "base_uri": "https://localhost:8080/"
        },
        "id": "YnpbZGtXhu65",
        "outputId": "985f1a5a-eb42-4a00-8d69-bffa7bebbb7a"
      },
      "execution_count": null,
      "outputs": [
        {
          "output_type": "execute_result",
          "data": {
            "text/plain": [
              "-1"
            ]
          },
          "metadata": {},
          "execution_count": 50
        }
      ]
    },
    {
      "cell_type": "code",
      "source": [
        "numbers = \"0123456\""
      ],
      "metadata": {
        "id": "dSfn8363iE5g"
      },
      "execution_count": null,
      "outputs": []
    },
    {
      "cell_type": "code",
      "source": [
        "numbers[::2]"
      ],
      "metadata": {
        "colab": {
          "base_uri": "https://localhost:8080/",
          "height": 37
        },
        "id": "8M_zPKbuiFhP",
        "outputId": "401cda4a-99cf-4fbd-a58c-1b00ba9446ff"
      },
      "execution_count": null,
      "outputs": [
        {
          "output_type": "execute_result",
          "data": {
            "text/plain": [
              "'0246'"
            ],
            "application/vnd.google.colaboratory.intrinsic+json": {
              "type": "string"
            }
          },
          "metadata": {},
          "execution_count": 54
        }
      ]
    },
    {
      "cell_type": "code",
      "source": [
        "\"0123456\".find('1')"
      ],
      "metadata": {
        "colab": {
          "base_uri": "https://localhost:8080/"
        },
        "id": "cEDqNmmDibbj",
        "outputId": "d03796fe-0e0b-43f7-f78a-5452bbbf65f2"
      },
      "execution_count": null,
      "outputs": [
        {
          "output_type": "execute_result",
          "data": {
            "text/plain": [
              "1"
            ]
          },
          "metadata": {},
          "execution_count": 55
        }
      ]
    },
    {
      "cell_type": "markdown",
      "source": [
        "Module 2 - Python Data Structures"
      ],
      "metadata": {
        "id": "6kQT32yXAfk8"
      }
    },
    {
      "cell_type": "code",
      "source": [
        "# Lists and Tuples"
      ],
      "metadata": {
        "id": "HiI8_J_EAxmw"
      },
      "execution_count": null,
      "outputs": []
    },
    {
      "cell_type": "code",
      "source": [
        "# Tuples\n",
        "# Tuples are expressed as comma-separated elements within parentheses.\n",
        "# Different type of variables can be conteined in a tuple"
      ],
      "metadata": {
        "id": "D6eZtouECKQo"
      },
      "execution_count": null,
      "outputs": []
    },
    {
      "cell_type": "code",
      "source": [
        "new_tuple = (\"something\", 1, True, 5.6, (\"another tuple\", 0))"
      ],
      "metadata": {
        "id": "mZzoESW-FhUN"
      },
      "execution_count": null,
      "outputs": []
    },
    {
      "cell_type": "code",
      "source": [
        "new_tuple[2]"
      ],
      "metadata": {
        "id": "TzaXUsHPFqll",
        "outputId": "6496b777-e57a-4ec7-877f-7986cbe394ff",
        "colab": {
          "base_uri": "https://localhost:8080/"
        }
      },
      "execution_count": null,
      "outputs": [
        {
          "output_type": "execute_result",
          "data": {
            "text/plain": [
              "True"
            ]
          },
          "metadata": {},
          "execution_count": 9
        }
      ]
    },
    {
      "cell_type": "code",
      "source": [
        "# Slide Tuples"
      ],
      "metadata": {
        "id": "cGFlDokXGeLi"
      },
      "execution_count": null,
      "outputs": []
    },
    {
      "cell_type": "code",
      "source": [
        "new_tuple[2:]"
      ],
      "metadata": {
        "id": "Icm7eQaMF0K4",
        "outputId": "0d6b58fb-9e1a-431c-f9ac-233170168257",
        "colab": {
          "base_uri": "https://localhost:8080/"
        }
      },
      "execution_count": null,
      "outputs": [
        {
          "output_type": "execute_result",
          "data": {
            "text/plain": [
              "(True, 5.6, ('another tuple', 0))"
            ]
          },
          "metadata": {},
          "execution_count": 11
        }
      ]
    },
    {
      "cell_type": "code",
      "source": [
        "new_tuple[4][0]"
      ],
      "metadata": {
        "id": "lUWVxjJAIoi4",
        "outputId": "d3913d39-62d6-4e52-95f8-c3fb73b9e724",
        "colab": {
          "base_uri": "https://localhost:8080/",
          "height": 37
        }
      },
      "execution_count": null,
      "outputs": [
        {
          "output_type": "execute_result",
          "data": {
            "text/plain": [
              "'another tuple'"
            ],
            "application/vnd.google.colaboratory.intrinsic+json": {
              "type": "string"
            }
          },
          "metadata": {},
          "execution_count": 17
        }
      ]
    },
    {
      "cell_type": "code",
      "source": [
        "# Tuples are inmutable"
      ],
      "metadata": {
        "id": "rGctf7byGmfj"
      },
      "execution_count": null,
      "outputs": []
    },
    {
      "cell_type": "code",
      "source": [
        "numbers_tuple = (9,4,3,2,0,-50)"
      ],
      "metadata": {
        "id": "IdahQnCFIKOx"
      },
      "execution_count": null,
      "outputs": []
    },
    {
      "cell_type": "code",
      "source": [
        "numbers_sorted = sorted(numbers_tuple)"
      ],
      "metadata": {
        "id": "emSkNVpqIRre"
      },
      "execution_count": null,
      "outputs": []
    },
    {
      "cell_type": "code",
      "source": [
        "numbers_sorted"
      ],
      "metadata": {
        "id": "eyrw1IA8IZ9W",
        "outputId": "db28922c-0524-4086-b3e3-21b5f15cbbb3",
        "colab": {
          "base_uri": "https://localhost:8080/"
        }
      },
      "execution_count": null,
      "outputs": [
        {
          "output_type": "execute_result",
          "data": {
            "text/plain": [
              "[-50, 0, 2, 3, 4, 9]"
            ]
          },
          "metadata": {},
          "execution_count": 16
        }
      ]
    },
    {
      "cell_type": "code",
      "source": [
        "# List \n",
        "# A list is represented with square brackets.\n",
        "# Lists are mutable\n",
        "new_list = [\"something\", 1, True, 5.6, (\"tuple\", 0), ['b','a','c']]"
      ],
      "metadata": {
        "id": "ZTXD72k4JDPr"
      },
      "execution_count": null,
      "outputs": []
    },
    {
      "cell_type": "code",
      "source": [
        "second_list = ['k', 'l', 'm']"
      ],
      "metadata": {
        "id": "TBcEOqzFLQi-"
      },
      "execution_count": null,
      "outputs": []
    },
    {
      "cell_type": "code",
      "source": [
        "new_list"
      ],
      "metadata": {
        "id": "lyqXOISQJXtd",
        "outputId": "caa0df20-0a9a-4a85-d111-4645e12861d4",
        "colab": {
          "base_uri": "https://localhost:8080/"
        }
      },
      "execution_count": null,
      "outputs": [
        {
          "output_type": "execute_result",
          "data": {
            "text/plain": [
              "['something', 1, True, 5.6, ('tuple', 0), ['b', 'a', 'c']]"
            ]
          },
          "metadata": {},
          "execution_count": 23
        }
      ]
    },
    {
      "cell_type": "code",
      "source": [
        "new_list[5]"
      ],
      "metadata": {
        "id": "j87HXIGvLHPP",
        "outputId": "907f414c-a979-4ab1-a76e-c5162de1ff48",
        "colab": {
          "base_uri": "https://localhost:8080/"
        }
      },
      "execution_count": null,
      "outputs": [
        {
          "output_type": "execute_result",
          "data": {
            "text/plain": [
              "['b', 'a', 'c']"
            ]
          },
          "metadata": {},
          "execution_count": 24
        }
      ]
    },
    {
      "cell_type": "code",
      "source": [
        "new_list + second_list"
      ],
      "metadata": {
        "id": "w2We2AGcLL4F",
        "outputId": "b47660fe-4e69-4f9c-a752-fc96c006213c",
        "colab": {
          "base_uri": "https://localhost:8080/"
        }
      },
      "execution_count": null,
      "outputs": [
        {
          "output_type": "execute_result",
          "data": {
            "text/plain": [
              "['something', 1, True, 5.6, ('tuple', 0), ['b', 'a', 'c'], 'k', 'l', 'm']"
            ]
          },
          "metadata": {},
          "execution_count": 26
        }
      ]
    },
    {
      "cell_type": "code",
      "source": [
        "second_list[0] = \"new word\""
      ],
      "metadata": {
        "id": "zWr_jJ4ULtHi"
      },
      "execution_count": null,
      "outputs": []
    },
    {
      "cell_type": "code",
      "source": [
        "second_list"
      ],
      "metadata": {
        "id": "49XovkjbL8I6",
        "outputId": "1d00eafc-55a5-4e4d-b6a0-169b812e8ad7",
        "colab": {
          "base_uri": "https://localhost:8080/"
        }
      },
      "execution_count": null,
      "outputs": [
        {
          "output_type": "execute_result",
          "data": {
            "text/plain": [
              "['new word', 'l', 'm']"
            ]
          },
          "metadata": {},
          "execution_count": 28
        }
      ]
    },
    {
      "cell_type": "code",
      "source": [
        "second_list.append(\"p\")\n",
        "second_list"
      ],
      "metadata": {
        "id": "NeSUzOnVMQj5",
        "outputId": "8c9513f0-4842-4444-fbc7-de6fbede0328",
        "colab": {
          "base_uri": "https://localhost:8080/"
        }
      },
      "execution_count": null,
      "outputs": [
        {
          "output_type": "execute_result",
          "data": {
            "text/plain": [
              "['new word', 'l', 'm', 'p']"
            ]
          },
          "metadata": {},
          "execution_count": 29
        }
      ]
    },
    {
      "cell_type": "code",
      "source": [
        "\"new word\".split()"
      ],
      "metadata": {
        "id": "HwZcWo-5MZq9",
        "outputId": "4a297d67-0957-45c7-9d2d-bed5bfa4feb5",
        "colab": {
          "base_uri": "https://localhost:8080/"
        }
      },
      "execution_count": null,
      "outputs": [
        {
          "output_type": "execute_result",
          "data": {
            "text/plain": [
              "['new', 'word']"
            ]
          },
          "metadata": {},
          "execution_count": 30
        }
      ]
    },
    {
      "cell_type": "code",
      "source": [
        "# Clone a List\n",
        "third_list = second_list[:]\n",
        "second_list.append(\"000\")\n",
        "third_list"
      ],
      "metadata": {
        "id": "vbWzB0KLNDuM",
        "outputId": "9f6fd401-e5dc-4c64-ea3b-3b7757e67121",
        "colab": {
          "base_uri": "https://localhost:8080/"
        }
      },
      "execution_count": null,
      "outputs": [
        {
          "output_type": "execute_result",
          "data": {
            "text/plain": [
              "['new word', 'l', 'm', 'p']"
            ]
          },
          "metadata": {},
          "execution_count": 33
        }
      ]
    },
    {
      "cell_type": "code",
      "source": [
        "second_list"
      ],
      "metadata": {
        "id": "qC-aC7_kNWlS",
        "outputId": "c7545d2d-8c51-4525-a2b1-da844169586a",
        "colab": {
          "base_uri": "https://localhost:8080/"
        }
      },
      "execution_count": null,
      "outputs": [
        {
          "output_type": "execute_result",
          "data": {
            "text/plain": [
              "['new word', 'l', 'm', 'p', '000']"
            ]
          },
          "metadata": {},
          "execution_count": 34
        }
      ]
    },
    {
      "cell_type": "code",
      "source": [
        "# Sets \n",
        "# Sets are unordered and only have unique elements \n",
        "new_set = {8,1,5,9,10} \n",
        "# list to set \n",
        "second_set = set(['a','b','c'])\n",
        "new_set"
      ],
      "metadata": {
        "colab": {
          "base_uri": "https://localhost:8080/"
        },
        "id": "8g5l8GrOH22d",
        "outputId": "0c6215bd-080f-46e8-cb94-9c272b91368e"
      },
      "execution_count": 25,
      "outputs": [
        {
          "output_type": "execute_result",
          "data": {
            "text/plain": [
              "{1, 5, 8, 9, 10}"
            ]
          },
          "metadata": {},
          "execution_count": 25
        }
      ]
    },
    {
      "cell_type": "code",
      "source": [
        "second_set"
      ],
      "metadata": {
        "colab": {
          "base_uri": "https://localhost:8080/"
        },
        "id": "_PSdKIGPI859",
        "outputId": "a342eb56-d979-4414-88a8-b1585cfdfdb2"
      },
      "execution_count": 34,
      "outputs": [
        {
          "output_type": "execute_result",
          "data": {
            "text/plain": [
              "{'a', 'b', 'c', 'item one'}"
            ]
          },
          "metadata": {},
          "execution_count": 34
        }
      ]
    },
    {
      "cell_type": "code",
      "source": [
        "second_set.add('item one')\n",
        "second_set"
      ],
      "metadata": {
        "colab": {
          "base_uri": "https://localhost:8080/"
        },
        "id": "o-RldLB6I_9G",
        "outputId": "08ceafbb-cf90-4eca-a564-641869b90817"
      },
      "execution_count": 36,
      "outputs": [
        {
          "output_type": "execute_result",
          "data": {
            "text/plain": [
              "{'a', 'b', 'c', 'item one'}"
            ]
          },
          "metadata": {},
          "execution_count": 36
        }
      ]
    },
    {
      "cell_type": "code",
      "source": [
        "second_set.remove('a')\n",
        "second_set"
      ],
      "metadata": {
        "colab": {
          "base_uri": "https://localhost:8080/"
        },
        "id": "JFl4TrFyJcYn",
        "outputId": "0ecc3f08-a4e6-4ce7-dd5c-f3db1d2f1cc2"
      },
      "execution_count": 37,
      "outputs": [
        {
          "output_type": "execute_result",
          "data": {
            "text/plain": [
              "{'b', 'c', 'item one'}"
            ]
          },
          "metadata": {},
          "execution_count": 37
        }
      ]
    },
    {
      "cell_type": "code",
      "source": [
        "# Check if an item is in a set\n",
        "'b' in second_set"
      ],
      "metadata": {
        "colab": {
          "base_uri": "https://localhost:8080/"
        },
        "id": "uX8aowuIJg64",
        "outputId": "00f06912-8292-4ac2-f8c7-321f586e84ac"
      },
      "execution_count": 39,
      "outputs": [
        {
          "output_type": "execute_result",
          "data": {
            "text/plain": [
              "True"
            ]
          },
          "metadata": {},
          "execution_count": 39
        }
      ]
    },
    {
      "cell_type": "code",
      "source": [
        "# intersection of sets\n",
        "second_set.add(1)\n",
        "second_set.add(10)\n",
        "new_set & second_set"
      ],
      "metadata": {
        "colab": {
          "base_uri": "https://localhost:8080/"
        },
        "id": "3M1D7Lv7JkqQ",
        "outputId": "6a7d2474-da6f-4dee-a6a3-f314afb4e0f0"
      },
      "execution_count": 40,
      "outputs": [
        {
          "output_type": "execute_result",
          "data": {
            "text/plain": [
              "{1, 10}"
            ]
          },
          "metadata": {},
          "execution_count": 40
        }
      ]
    },
    {
      "cell_type": "code",
      "source": [
        "# union of sets\n",
        "third_set = new_set.union(second_set)\n",
        "third_set"
      ],
      "metadata": {
        "colab": {
          "base_uri": "https://localhost:8080/"
        },
        "id": "aNIg63CuJsnA",
        "outputId": "5bdb85ec-268a-45a1-d44e-abd5e43795fb"
      },
      "execution_count": 41,
      "outputs": [
        {
          "output_type": "execute_result",
          "data": {
            "text/plain": [
              "{1, 10, 5, 8, 9, 'b', 'c', 'item one'}"
            ]
          },
          "metadata": {},
          "execution_count": 41
        }
      ]
    },
    {
      "cell_type": "code",
      "source": [
        "new_set.issubset(third_set)"
      ],
      "metadata": {
        "colab": {
          "base_uri": "https://localhost:8080/"
        },
        "id": "yS6mNRCtJzLs",
        "outputId": "6ab66605-b48a-4e64-99d1-a587cc8768e5"
      },
      "execution_count": 42,
      "outputs": [
        {
          "output_type": "execute_result",
          "data": {
            "text/plain": [
              "True"
            ]
          },
          "metadata": {},
          "execution_count": 42
        }
      ]
    },
    {
      "cell_type": "code",
      "source": [
        "# Dictionaries\n",
        "# The keys have to be immutbale and unique\n",
        "# the values can be immutable, mutable and duplicates\n",
        "\n",
        "new_dic = {\"key one\": \"value one\", 2:22, (3):[3,4]}\n",
        "new_dic"
      ],
      "metadata": {
        "id": "zhGghkelKoJd",
        "outputId": "8595b405-5f19-4f61-ffe8-89c839bfc449",
        "colab": {
          "base_uri": "https://localhost:8080/"
        }
      },
      "execution_count": 52,
      "outputs": [
        {
          "output_type": "execute_result",
          "data": {
            "text/plain": [
              "{'key one': 'value one', 2: 22, 3: [3, 4]}"
            ]
          },
          "metadata": {},
          "execution_count": 52
        }
      ]
    },
    {
      "cell_type": "code",
      "source": [
        "new_dic['key one']"
      ],
      "metadata": {
        "id": "sKXICYuEON8m",
        "outputId": "ea160119-a088-4420-fc39-66e58642f162",
        "colab": {
          "base_uri": "https://localhost:8080/",
          "height": 37
        }
      },
      "execution_count": 53,
      "outputs": [
        {
          "output_type": "execute_result",
          "data": {
            "text/plain": [
              "'value one'"
            ],
            "application/vnd.google.colaboratory.intrinsic+json": {
              "type": "string"
            }
          },
          "metadata": {},
          "execution_count": 53
        }
      ]
    },
    {
      "cell_type": "code",
      "source": [
        "# Add new key and value\n",
        "new_dic[\"fourth key\"] = 4\n",
        "new_dic"
      ],
      "metadata": {
        "id": "4D_8awF4OVVE",
        "outputId": "480ac118-ec3c-45fd-ae48-7d58b75552ee",
        "colab": {
          "base_uri": "https://localhost:8080/"
        }
      },
      "execution_count": 54,
      "outputs": [
        {
          "output_type": "execute_result",
          "data": {
            "text/plain": [
              "{'key one': 'value one', 2: 22, 3: [3, 4], 'fourth key': 4}"
            ]
          },
          "metadata": {},
          "execution_count": 54
        }
      ]
    },
    {
      "cell_type": "code",
      "source": [
        "del(new_dic[3])\n",
        "new_dic"
      ],
      "metadata": {
        "id": "gJ1wyk5VOynF",
        "outputId": "98e023ce-697e-428e-f71e-a25f636120ab",
        "colab": {
          "base_uri": "https://localhost:8080/"
        }
      },
      "execution_count": 55,
      "outputs": [
        {
          "output_type": "execute_result",
          "data": {
            "text/plain": [
              "{'key one': 'value one', 2: 22, 'fourth key': 4}"
            ]
          },
          "metadata": {},
          "execution_count": 55
        }
      ]
    },
    {
      "cell_type": "code",
      "source": [
        "\"key one\" in new_dic"
      ],
      "metadata": {
        "id": "6V7ehrLut2OX",
        "outputId": "ba2b6ef6-d60c-4d40-f338-382b7e6fb912",
        "colab": {
          "base_uri": "https://localhost:8080/"
        }
      },
      "execution_count": 56,
      "outputs": [
        {
          "output_type": "execute_result",
          "data": {
            "text/plain": [
              "True"
            ]
          },
          "metadata": {},
          "execution_count": 56
        }
      ]
    },
    {
      "cell_type": "code",
      "source": [
        "new_dic.keys()"
      ],
      "metadata": {
        "id": "Jq6zdNTXt9Pu",
        "outputId": "5541ee81-be08-45de-f920-676226c02f8d",
        "colab": {
          "base_uri": "https://localhost:8080/"
        }
      },
      "execution_count": 57,
      "outputs": [
        {
          "output_type": "execute_result",
          "data": {
            "text/plain": [
              "dict_keys(['key one', 2, 'fourth key'])"
            ]
          },
          "metadata": {},
          "execution_count": 57
        }
      ]
    },
    {
      "cell_type": "code",
      "source": [
        "new_dic.values()"
      ],
      "metadata": {
        "id": "BbLqtIy3uCfr",
        "outputId": "55654f90-ce3b-4147-d9de-cc6e9a07cfd9",
        "colab": {
          "base_uri": "https://localhost:8080/"
        }
      },
      "execution_count": 59,
      "outputs": [
        {
          "output_type": "execute_result",
          "data": {
            "text/plain": [
              "dict_values(['value one', 22, 4])"
            ]
          },
          "metadata": {},
          "execution_count": 59
        }
      ]
    }
  ]
}